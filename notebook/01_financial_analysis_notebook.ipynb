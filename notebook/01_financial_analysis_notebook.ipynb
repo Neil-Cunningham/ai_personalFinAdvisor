{
  "cells": [
    {
      "cell_type": "markdown",
      "metadata": {
        "id": "MEjKohCYtaIi"
      },
      "source": [
        "# Self-Contained Financial Analysis and Insights Notebook\n",
        "\n",
        "This notebook contains all the necessary code to analyze financial data, categorize transactions, generate insights using AI, and create PDF reports. No external .py files are required.\n",
        "\n",
        "## License\n",
        "\n",
        "This notebook is licensed under the GPLv3 License. See the LICENSE file for more details.\n",
        "- Copyright (C) 2024 [Vincent Koc](https://github.com/vincentkoc)\n",
        "- Copyright (C) 2024 [Hung Nguyen](https://github.com/hung-ngm)\n",
        "## Setup\n",
        "\n",
        "First, let's import the necessary libraries and set up our environment."
      ]
    },
    {
      "cell_type": "code",
      "execution_count": 1,
      "metadata": {
        "colab": {
          "base_uri": "https://localhost:8080/"
        },
        "id": "VJjdEVOqtaIl",
        "outputId": "1860af99-b84f-4d58-89ce-f44ceac23748"
      },
      "outputs": [
        {
          "output_type": "stream",
          "name": "stdout",
          "text": [
            "Collecting python-dotenv\n",
            "  Downloading python_dotenv-1.0.1-py3-none-any.whl.metadata (23 kB)\n",
            "Requirement already satisfied: pandas in /usr/local/lib/python3.11/dist-packages (2.2.2)\n",
            "Requirement already satisfied: gspread in /usr/local/lib/python3.11/dist-packages (6.1.4)\n",
            "Requirement already satisfied: oauth2client in /usr/local/lib/python3.11/dist-packages (4.1.3)\n",
            "Collecting openai==0.28.0\n",
            "  Downloading openai-0.28.0-py3-none-any.whl.metadata (13 kB)\n",
            "Collecting pdfkit\n",
            "  Downloading pdfkit-1.0.0-py3-none-any.whl.metadata (9.3 kB)\n",
            "Collecting gradio\n",
            "  Downloading gradio-5.20.1-py3-none-any.whl.metadata (16 kB)\n",
            "Requirement already satisfied: requests>=2.20 in /usr/local/lib/python3.11/dist-packages (from openai==0.28.0) (2.32.3)\n",
            "Requirement already satisfied: tqdm in /usr/local/lib/python3.11/dist-packages (from openai==0.28.0) (4.67.1)\n",
            "Requirement already satisfied: aiohttp in /usr/local/lib/python3.11/dist-packages (from openai==0.28.0) (3.11.13)\n",
            "Requirement already satisfied: numpy>=1.23.2 in /usr/local/lib/python3.11/dist-packages (from pandas) (1.26.4)\n",
            "Requirement already satisfied: python-dateutil>=2.8.2 in /usr/local/lib/python3.11/dist-packages (from pandas) (2.8.2)\n",
            "Requirement already satisfied: pytz>=2020.1 in /usr/local/lib/python3.11/dist-packages (from pandas) (2025.1)\n",
            "Requirement already satisfied: tzdata>=2022.7 in /usr/local/lib/python3.11/dist-packages (from pandas) (2025.1)\n",
            "Requirement already satisfied: google-auth>=1.12.0 in /usr/local/lib/python3.11/dist-packages (from gspread) (2.38.0)\n",
            "Requirement already satisfied: google-auth-oauthlib>=0.4.1 in /usr/local/lib/python3.11/dist-packages (from gspread) (1.2.1)\n",
            "Requirement already satisfied: httplib2>=0.9.1 in /usr/local/lib/python3.11/dist-packages (from oauth2client) (0.22.0)\n",
            "Requirement already satisfied: pyasn1>=0.1.7 in /usr/local/lib/python3.11/dist-packages (from oauth2client) (0.6.1)\n",
            "Requirement already satisfied: pyasn1-modules>=0.0.5 in /usr/local/lib/python3.11/dist-packages (from oauth2client) (0.4.1)\n",
            "Requirement already satisfied: rsa>=3.1.4 in /usr/local/lib/python3.11/dist-packages (from oauth2client) (4.9)\n",
            "Requirement already satisfied: six>=1.6.1 in /usr/local/lib/python3.11/dist-packages (from oauth2client) (1.17.0)\n",
            "Collecting aiofiles<24.0,>=22.0 (from gradio)\n",
            "  Downloading aiofiles-23.2.1-py3-none-any.whl.metadata (9.7 kB)\n",
            "Requirement already satisfied: anyio<5.0,>=3.0 in /usr/local/lib/python3.11/dist-packages (from gradio) (3.7.1)\n",
            "Collecting fastapi<1.0,>=0.115.2 (from gradio)\n",
            "  Downloading fastapi-0.115.11-py3-none-any.whl.metadata (27 kB)\n",
            "Collecting ffmpy (from gradio)\n",
            "  Downloading ffmpy-0.5.0-py3-none-any.whl.metadata (3.0 kB)\n",
            "Collecting gradio-client==1.7.2 (from gradio)\n",
            "  Downloading gradio_client-1.7.2-py3-none-any.whl.metadata (7.1 kB)\n",
            "Collecting groovy~=0.1 (from gradio)\n",
            "  Downloading groovy-0.1.2-py3-none-any.whl.metadata (6.1 kB)\n",
            "Requirement already satisfied: httpx>=0.24.1 in /usr/local/lib/python3.11/dist-packages (from gradio) (0.28.1)\n",
            "Requirement already satisfied: huggingface-hub>=0.28.1 in /usr/local/lib/python3.11/dist-packages (from gradio) (0.28.1)\n",
            "Requirement already satisfied: jinja2<4.0 in /usr/local/lib/python3.11/dist-packages (from gradio) (3.1.5)\n",
            "Collecting markupsafe~=2.0 (from gradio)\n",
            "  Downloading MarkupSafe-2.1.5-cp311-cp311-manylinux_2_17_x86_64.manylinux2014_x86_64.whl.metadata (3.0 kB)\n",
            "Requirement already satisfied: orjson~=3.0 in /usr/local/lib/python3.11/dist-packages (from gradio) (3.10.15)\n",
            "Requirement already satisfied: packaging in /usr/local/lib/python3.11/dist-packages (from gradio) (24.2)\n",
            "Requirement already satisfied: pillow<12.0,>=8.0 in /usr/local/lib/python3.11/dist-packages (from gradio) (11.1.0)\n",
            "Requirement already satisfied: pydantic>=2.0 in /usr/local/lib/python3.11/dist-packages (from gradio) (2.10.6)\n",
            "Collecting pydub (from gradio)\n",
            "  Downloading pydub-0.25.1-py2.py3-none-any.whl.metadata (1.4 kB)\n",
            "Collecting python-multipart>=0.0.18 (from gradio)\n",
            "  Downloading python_multipart-0.0.20-py3-none-any.whl.metadata (1.8 kB)\n",
            "Requirement already satisfied: pyyaml<7.0,>=5.0 in /usr/local/lib/python3.11/dist-packages (from gradio) (6.0.2)\n",
            "Collecting ruff>=0.9.3 (from gradio)\n",
            "  Downloading ruff-0.9.10-py3-none-manylinux_2_17_x86_64.manylinux2014_x86_64.whl.metadata (25 kB)\n",
            "Collecting safehttpx<0.2.0,>=0.1.6 (from gradio)\n",
            "  Downloading safehttpx-0.1.6-py3-none-any.whl.metadata (4.2 kB)\n",
            "Collecting semantic-version~=2.0 (from gradio)\n",
            "  Downloading semantic_version-2.10.0-py2.py3-none-any.whl.metadata (9.7 kB)\n",
            "Collecting starlette<1.0,>=0.40.0 (from gradio)\n",
            "  Downloading starlette-0.46.0-py3-none-any.whl.metadata (6.2 kB)\n",
            "Collecting tomlkit<0.14.0,>=0.12.0 (from gradio)\n",
            "  Downloading tomlkit-0.13.2-py3-none-any.whl.metadata (2.7 kB)\n",
            "Requirement already satisfied: typer<1.0,>=0.12 in /usr/local/lib/python3.11/dist-packages (from gradio) (0.15.2)\n",
            "Requirement already satisfied: typing-extensions~=4.0 in /usr/local/lib/python3.11/dist-packages (from gradio) (4.12.2)\n",
            "Collecting uvicorn>=0.14.0 (from gradio)\n",
            "  Downloading uvicorn-0.34.0-py3-none-any.whl.metadata (6.5 kB)\n",
            "Requirement already satisfied: fsspec in /usr/local/lib/python3.11/dist-packages (from gradio-client==1.7.2->gradio) (2024.10.0)\n",
            "Requirement already satisfied: websockets<16.0,>=10.0 in /usr/local/lib/python3.11/dist-packages (from gradio-client==1.7.2->gradio) (14.2)\n",
            "Requirement already satisfied: idna>=2.8 in /usr/local/lib/python3.11/dist-packages (from anyio<5.0,>=3.0->gradio) (3.10)\n",
            "Requirement already satisfied: sniffio>=1.1 in /usr/local/lib/python3.11/dist-packages (from anyio<5.0,>=3.0->gradio) (1.3.1)\n",
            "Requirement already satisfied: cachetools<6.0,>=2.0.0 in /usr/local/lib/python3.11/dist-packages (from google-auth>=1.12.0->gspread) (5.5.2)\n",
            "Requirement already satisfied: requests-oauthlib>=0.7.0 in /usr/local/lib/python3.11/dist-packages (from google-auth-oauthlib>=0.4.1->gspread) (2.0.0)\n",
            "Requirement already satisfied: pyparsing!=3.0.0,!=3.0.1,!=3.0.2,!=3.0.3,<4,>=2.4.2 in /usr/local/lib/python3.11/dist-packages (from httplib2>=0.9.1->oauth2client) (3.2.1)\n",
            "Requirement already satisfied: certifi in /usr/local/lib/python3.11/dist-packages (from httpx>=0.24.1->gradio) (2025.1.31)\n",
            "Requirement already satisfied: httpcore==1.* in /usr/local/lib/python3.11/dist-packages (from httpx>=0.24.1->gradio) (1.0.7)\n",
            "Requirement already satisfied: h11<0.15,>=0.13 in /usr/local/lib/python3.11/dist-packages (from httpcore==1.*->httpx>=0.24.1->gradio) (0.14.0)\n",
            "Requirement already satisfied: filelock in /usr/local/lib/python3.11/dist-packages (from huggingface-hub>=0.28.1->gradio) (3.17.0)\n",
            "Requirement already satisfied: annotated-types>=0.6.0 in /usr/local/lib/python3.11/dist-packages (from pydantic>=2.0->gradio) (0.7.0)\n",
            "Requirement already satisfied: pydantic-core==2.27.2 in /usr/local/lib/python3.11/dist-packages (from pydantic>=2.0->gradio) (2.27.2)\n",
            "Requirement already satisfied: charset-normalizer<4,>=2 in /usr/local/lib/python3.11/dist-packages (from requests>=2.20->openai==0.28.0) (3.4.1)\n",
            "Requirement already satisfied: urllib3<3,>=1.21.1 in /usr/local/lib/python3.11/dist-packages (from requests>=2.20->openai==0.28.0) (2.3.0)\n",
            "Requirement already satisfied: click>=8.0.0 in /usr/local/lib/python3.11/dist-packages (from typer<1.0,>=0.12->gradio) (8.1.8)\n",
            "Requirement already satisfied: shellingham>=1.3.0 in /usr/local/lib/python3.11/dist-packages (from typer<1.0,>=0.12->gradio) (1.5.4)\n",
            "Requirement already satisfied: rich>=10.11.0 in /usr/local/lib/python3.11/dist-packages (from typer<1.0,>=0.12->gradio) (13.9.4)\n",
            "Requirement already satisfied: aiohappyeyeballs>=2.3.0 in /usr/local/lib/python3.11/dist-packages (from aiohttp->openai==0.28.0) (2.4.6)\n",
            "Requirement already satisfied: aiosignal>=1.1.2 in /usr/local/lib/python3.11/dist-packages (from aiohttp->openai==0.28.0) (1.3.2)\n",
            "Requirement already satisfied: attrs>=17.3.0 in /usr/local/lib/python3.11/dist-packages (from aiohttp->openai==0.28.0) (25.1.0)\n",
            "Requirement already satisfied: frozenlist>=1.1.1 in /usr/local/lib/python3.11/dist-packages (from aiohttp->openai==0.28.0) (1.5.0)\n",
            "Requirement already satisfied: multidict<7.0,>=4.5 in /usr/local/lib/python3.11/dist-packages (from aiohttp->openai==0.28.0) (6.1.0)\n",
            "Requirement already satisfied: propcache>=0.2.0 in /usr/local/lib/python3.11/dist-packages (from aiohttp->openai==0.28.0) (0.3.0)\n",
            "Requirement already satisfied: yarl<2.0,>=1.17.0 in /usr/local/lib/python3.11/dist-packages (from aiohttp->openai==0.28.0) (1.18.3)\n",
            "Requirement already satisfied: oauthlib>=3.0.0 in /usr/local/lib/python3.11/dist-packages (from requests-oauthlib>=0.7.0->google-auth-oauthlib>=0.4.1->gspread) (3.2.2)\n",
            "Requirement already satisfied: markdown-it-py>=2.2.0 in /usr/local/lib/python3.11/dist-packages (from rich>=10.11.0->typer<1.0,>=0.12->gradio) (3.0.0)\n",
            "Requirement already satisfied: pygments<3.0.0,>=2.13.0 in /usr/local/lib/python3.11/dist-packages (from rich>=10.11.0->typer<1.0,>=0.12->gradio) (2.18.0)\n",
            "Requirement already satisfied: mdurl~=0.1 in /usr/local/lib/python3.11/dist-packages (from markdown-it-py>=2.2.0->rich>=10.11.0->typer<1.0,>=0.12->gradio) (0.1.2)\n",
            "Downloading openai-0.28.0-py3-none-any.whl (76 kB)\n",
            "\u001b[2K   \u001b[90m━━━━━━━━━━━━━━━━━━━━━━━━━━━━━━━━━━━━━━━━\u001b[0m \u001b[32m76.5/76.5 kB\u001b[0m \u001b[31m1.7 MB/s\u001b[0m eta \u001b[36m0:00:00\u001b[0m\n",
            "\u001b[?25hDownloading python_dotenv-1.0.1-py3-none-any.whl (19 kB)\n",
            "Downloading pdfkit-1.0.0-py3-none-any.whl (12 kB)\n",
            "Downloading gradio-5.20.1-py3-none-any.whl (62.3 MB)\n",
            "\u001b[2K   \u001b[90m━━━━━━━━━━━━━━━━━━━━━━━━━━━━━━━━━━━━━━━━\u001b[0m \u001b[32m62.3/62.3 MB\u001b[0m \u001b[31m11.3 MB/s\u001b[0m eta \u001b[36m0:00:00\u001b[0m\n",
            "\u001b[?25hDownloading gradio_client-1.7.2-py3-none-any.whl (322 kB)\n",
            "\u001b[2K   \u001b[90m━━━━━━━━━━━━━━━━━━━━━━━━━━━━━━━━━━━━━━━━\u001b[0m \u001b[32m322.1/322.1 kB\u001b[0m \u001b[31m15.1 MB/s\u001b[0m eta \u001b[36m0:00:00\u001b[0m\n",
            "\u001b[?25hDownloading aiofiles-23.2.1-py3-none-any.whl (15 kB)\n",
            "Downloading fastapi-0.115.11-py3-none-any.whl (94 kB)\n",
            "\u001b[2K   \u001b[90m━━━━━━━━━━━━━━━━━━━━━━━━━━━━━━━━━━━━━━━━\u001b[0m \u001b[32m94.9/94.9 kB\u001b[0m \u001b[31m6.7 MB/s\u001b[0m eta \u001b[36m0:00:00\u001b[0m\n",
            "\u001b[?25hDownloading groovy-0.1.2-py3-none-any.whl (14 kB)\n",
            "Downloading MarkupSafe-2.1.5-cp311-cp311-manylinux_2_17_x86_64.manylinux2014_x86_64.whl (28 kB)\n",
            "Downloading python_multipart-0.0.20-py3-none-any.whl (24 kB)\n",
            "Downloading ruff-0.9.10-py3-none-manylinux_2_17_x86_64.manylinux2014_x86_64.whl (11.3 MB)\n",
            "\u001b[2K   \u001b[90m━━━━━━━━━━━━━━━━━━━━━━━━━━━━━━━━━━━━━━━━\u001b[0m \u001b[32m11.3/11.3 MB\u001b[0m \u001b[31m23.1 MB/s\u001b[0m eta \u001b[36m0:00:00\u001b[0m\n",
            "\u001b[?25hDownloading safehttpx-0.1.6-py3-none-any.whl (8.7 kB)\n",
            "Downloading semantic_version-2.10.0-py2.py3-none-any.whl (15 kB)\n",
            "Downloading starlette-0.46.0-py3-none-any.whl (71 kB)\n",
            "\u001b[2K   \u001b[90m━━━━━━━━━━━━━━━━━━━━━━━━━━━━━━━━━━━━━━━━\u001b[0m \u001b[32m72.0/72.0 kB\u001b[0m \u001b[31m3.8 MB/s\u001b[0m eta \u001b[36m0:00:00\u001b[0m\n",
            "\u001b[?25hDownloading tomlkit-0.13.2-py3-none-any.whl (37 kB)\n",
            "Downloading uvicorn-0.34.0-py3-none-any.whl (62 kB)\n",
            "\u001b[2K   \u001b[90m━━━━━━━━━━━━━━━━━━━━━━━━━━━━━━━━━━━━━━━━\u001b[0m \u001b[32m62.3/62.3 kB\u001b[0m \u001b[31m3.6 MB/s\u001b[0m eta \u001b[36m0:00:00\u001b[0m\n",
            "\u001b[?25hDownloading ffmpy-0.5.0-py3-none-any.whl (6.0 kB)\n",
            "Downloading pydub-0.25.1-py2.py3-none-any.whl (32 kB)\n",
            "Installing collected packages: pydub, pdfkit, uvicorn, tomlkit, semantic-version, ruff, python-multipart, python-dotenv, markupsafe, groovy, ffmpy, aiofiles, starlette, safehttpx, openai, gradio-client, fastapi, gradio\n",
            "  Attempting uninstall: markupsafe\n",
            "    Found existing installation: MarkupSafe 3.0.2\n",
            "    Uninstalling MarkupSafe-3.0.2:\n",
            "      Successfully uninstalled MarkupSafe-3.0.2\n",
            "  Attempting uninstall: openai\n",
            "    Found existing installation: openai 1.61.1\n",
            "    Uninstalling openai-1.61.1:\n",
            "      Successfully uninstalled openai-1.61.1\n",
            "\u001b[31mERROR: pip's dependency resolver does not currently take into account all the packages that are installed. This behaviour is the source of the following dependency conflicts.\n",
            "torch 2.5.1+cu124 requires nvidia-cublas-cu12==12.4.5.8; platform_system == \"Linux\" and platform_machine == \"x86_64\", but you have nvidia-cublas-cu12 12.5.3.2 which is incompatible.\n",
            "torch 2.5.1+cu124 requires nvidia-cuda-cupti-cu12==12.4.127; platform_system == \"Linux\" and platform_machine == \"x86_64\", but you have nvidia-cuda-cupti-cu12 12.5.82 which is incompatible.\n",
            "torch 2.5.1+cu124 requires nvidia-cuda-nvrtc-cu12==12.4.127; platform_system == \"Linux\" and platform_machine == \"x86_64\", but you have nvidia-cuda-nvrtc-cu12 12.5.82 which is incompatible.\n",
            "torch 2.5.1+cu124 requires nvidia-cuda-runtime-cu12==12.4.127; platform_system == \"Linux\" and platform_machine == \"x86_64\", but you have nvidia-cuda-runtime-cu12 12.5.82 which is incompatible.\n",
            "torch 2.5.1+cu124 requires nvidia-cudnn-cu12==9.1.0.70; platform_system == \"Linux\" and platform_machine == \"x86_64\", but you have nvidia-cudnn-cu12 9.3.0.75 which is incompatible.\n",
            "torch 2.5.1+cu124 requires nvidia-cufft-cu12==11.2.1.3; platform_system == \"Linux\" and platform_machine == \"x86_64\", but you have nvidia-cufft-cu12 11.2.3.61 which is incompatible.\n",
            "torch 2.5.1+cu124 requires nvidia-curand-cu12==10.3.5.147; platform_system == \"Linux\" and platform_machine == \"x86_64\", but you have nvidia-curand-cu12 10.3.6.82 which is incompatible.\n",
            "torch 2.5.1+cu124 requires nvidia-cusolver-cu12==11.6.1.9; platform_system == \"Linux\" and platform_machine == \"x86_64\", but you have nvidia-cusolver-cu12 11.6.3.83 which is incompatible.\n",
            "torch 2.5.1+cu124 requires nvidia-cusparse-cu12==12.3.1.170; platform_system == \"Linux\" and platform_machine == \"x86_64\", but you have nvidia-cusparse-cu12 12.5.1.3 which is incompatible.\n",
            "torch 2.5.1+cu124 requires nvidia-nvjitlink-cu12==12.4.127; platform_system == \"Linux\" and platform_machine == \"x86_64\", but you have nvidia-nvjitlink-cu12 12.5.82 which is incompatible.\u001b[0m\u001b[31m\n",
            "\u001b[0mSuccessfully installed aiofiles-23.2.1 fastapi-0.115.11 ffmpy-0.5.0 gradio-5.20.1 gradio-client-1.7.2 groovy-0.1.2 markupsafe-2.1.5 openai-0.28.0 pdfkit-1.0.0 pydub-0.25.1 python-dotenv-1.0.1 python-multipart-0.0.20 ruff-0.9.10 safehttpx-0.1.6 semantic-version-2.10.0 starlette-0.46.0 tomlkit-0.13.2 uvicorn-0.34.0\n"
          ]
        }
      ],
      "source": [
        "%pip install python-dotenv pandas gspread oauth2client openai==0.28.0 pdfkit gradio"
      ]
    },
    {
      "cell_type": "code",
      "source": [
        "from getpass import getpass\n",
        "import os\n",
        "\n",
        "os.environ[\"OPENAI_API_KEY\"] = getpass(\"Enter your OpenAI API Key: \")"
      ],
      "metadata": {
        "colab": {
          "base_uri": "https://localhost:8080/"
        },
        "id": "ctOP1ai00-vh",
        "outputId": "89b8f772-bdf1-4c76-e7d5-0c4b9038b7fe"
      },
      "execution_count": 2,
      "outputs": [
        {
          "name": "stdout",
          "output_type": "stream",
          "text": [
            "Enter your OpenAI API Key: ··········\n"
          ]
        }
      ]
    },
    {
      "cell_type": "code",
      "source": [
        "---print(os.getenv(\"OPENAI_API_KEY\"))"
      ],
      "metadata": {
        "id": "FVpwBJRp1wSO"
      },
      "execution_count": null,
      "outputs": []
    },
    {
      "cell_type": "code",
      "execution_count": 3,
      "metadata": {
        "id": "AMujSy9qtaIn"
      },
      "outputs": [],
      "source": [
        "import os\n",
        "import pandas as pd\n",
        "import openai\n",
        "from dotenv import load_dotenv\n",
        "import pdfkit\n",
        "\n",
        "# Load environment variables\n",
        "load_dotenv()\n",
        "\n",
        "# Set up OpenAI API key\n",
        "openai.api_key = os.getenv(\"OPENAI_API_KEY\")\n",
        "\n",
        "# Check if the API key is set\n",
        "if not openai.api_key:\n",
        "    raise ValueError(\"OpenAI API key is not set. Please check your .env file.\")"
      ]
    },
    {
      "cell_type": "markdown",
      "metadata": {
        "id": "XnFB37wytaIn"
      },
      "source": [
        "## Data Extraction\n",
        "\n",
        "Let's define functions to load our financial data from either a CSV file or Google Sheets."
      ]
    },
    {
      "cell_type": "code",
      "execution_count": 5,
      "metadata": {
        "colab": {
          "base_uri": "https://localhost:8080/",
          "height": 356
        },
        "id": "CTGbc9FEtaIn",
        "outputId": "a0bf1d51-9501-4c22-8bc6-cd23ff4d309a"
      },
      "outputs": [
        {
          "output_type": "error",
          "ename": "FileNotFoundError",
          "evalue": "The file ../data/data.csv does not exist.",
          "traceback": [
            "\u001b[0;31m---------------------------------------------------------------------------\u001b[0m",
            "\u001b[0;31mFileNotFoundError\u001b[0m                         Traceback (most recent call last)",
            "\u001b[0;32m<ipython-input-5-a525991a4089>\u001b[0m in \u001b[0;36m<cell line: 0>\u001b[0;34m()\u001b[0m\n\u001b[1;32m     24\u001b[0m \u001b[0;34m\u001b[0m\u001b[0m\n\u001b[1;32m     25\u001b[0m \u001b[0;31m# Load the financial data\u001b[0m\u001b[0;34m\u001b[0m\u001b[0;34m\u001b[0m\u001b[0m\n\u001b[0;32m---> 26\u001b[0;31m \u001b[0mdf\u001b[0m \u001b[0;34m=\u001b[0m \u001b[0mload_data\u001b[0m\u001b[0;34m(\u001b[0m\u001b[0;34m)\u001b[0m\u001b[0;34m\u001b[0m\u001b[0;34m\u001b[0m\u001b[0m\n\u001b[0m\u001b[1;32m     27\u001b[0m \u001b[0;34m\u001b[0m\u001b[0m\n\u001b[1;32m     28\u001b[0m \u001b[0;31m# Display the first few rows of the dataframe\u001b[0m\u001b[0;34m\u001b[0m\u001b[0;34m\u001b[0m\u001b[0m\n",
            "\u001b[0;32m<ipython-input-5-a525991a4089>\u001b[0m in \u001b[0;36mload_data\u001b[0;34m()\u001b[0m\n\u001b[1;32m     21\u001b[0m         \u001b[0;32mreturn\u001b[0m \u001b[0mload_from_google_sheets\u001b[0m\u001b[0;34m(\u001b[0m\u001b[0;34m)\u001b[0m\u001b[0;34m\u001b[0m\u001b[0;34m\u001b[0m\u001b[0m\n\u001b[1;32m     22\u001b[0m     \u001b[0;32melse\u001b[0m\u001b[0;34m:\u001b[0m\u001b[0;34m\u001b[0m\u001b[0;34m\u001b[0m\u001b[0m\n\u001b[0;32m---> 23\u001b[0;31m         \u001b[0;32mreturn\u001b[0m \u001b[0mload_from_csv\u001b[0m\u001b[0;34m(\u001b[0m\u001b[0;34m)\u001b[0m\u001b[0;34m\u001b[0m\u001b[0;34m\u001b[0m\u001b[0m\n\u001b[0m\u001b[1;32m     24\u001b[0m \u001b[0;34m\u001b[0m\u001b[0m\n\u001b[1;32m     25\u001b[0m \u001b[0;31m# Load the financial data\u001b[0m\u001b[0;34m\u001b[0m\u001b[0;34m\u001b[0m\u001b[0m\n",
            "\u001b[0;32m<ipython-input-5-a525991a4089>\u001b[0m in \u001b[0;36mload_from_csv\u001b[0;34m()\u001b[0m\n\u001b[1;32m     14\u001b[0m     \u001b[0mcsv_path\u001b[0m \u001b[0;34m=\u001b[0m \u001b[0;34m'../data/data.csv'\u001b[0m  \u001b[0;31m# Assuming the CSV file is in the same directory as the notebook\u001b[0m\u001b[0;34m\u001b[0m\u001b[0;34m\u001b[0m\u001b[0m\n\u001b[1;32m     15\u001b[0m     \u001b[0;32mif\u001b[0m \u001b[0;32mnot\u001b[0m \u001b[0mos\u001b[0m\u001b[0;34m.\u001b[0m\u001b[0mpath\u001b[0m\u001b[0;34m.\u001b[0m\u001b[0mexists\u001b[0m\u001b[0;34m(\u001b[0m\u001b[0mcsv_path\u001b[0m\u001b[0;34m)\u001b[0m\u001b[0;34m:\u001b[0m\u001b[0;34m\u001b[0m\u001b[0;34m\u001b[0m\u001b[0m\n\u001b[0;32m---> 16\u001b[0;31m         \u001b[0;32mraise\u001b[0m \u001b[0mFileNotFoundError\u001b[0m\u001b[0;34m(\u001b[0m\u001b[0;34mf\"The file {csv_path} does not exist.\"\u001b[0m\u001b[0;34m)\u001b[0m\u001b[0;34m\u001b[0m\u001b[0;34m\u001b[0m\u001b[0m\n\u001b[0m\u001b[1;32m     17\u001b[0m     \u001b[0;32mreturn\u001b[0m \u001b[0mpd\u001b[0m\u001b[0;34m.\u001b[0m\u001b[0mread_csv\u001b[0m\u001b[0;34m(\u001b[0m\u001b[0mcsv_path\u001b[0m\u001b[0;34m)\u001b[0m\u001b[0;34m\u001b[0m\u001b[0;34m\u001b[0m\u001b[0m\n\u001b[1;32m     18\u001b[0m \u001b[0;34m\u001b[0m\u001b[0m\n",
            "\u001b[0;31mFileNotFoundError\u001b[0m: The file ../data/data.csv does not exist."
          ]
        }
      ],
      "source": [
        "import gspread\n",
        "from oauth2client.service_account import ServiceAccountCredentials\n",
        "\n",
        "def load_from_google_sheets():\n",
        "    scope = [\"https://spreadsheets.google.com/feeds\", \"https://www.googleapis.com/auth/drive\"]\n",
        "    creds = ServiceAccountCredentials.from_json_keyfile_name(os.getenv(\"GOOGLE_APPLICATION_CREDENTIALS\"), scope)\n",
        "    client = gspread.authorize(creds)\n",
        "\n",
        "    sheet = client.open_by_url(os.getenv(\"DUMMY_DATA_SPREADSHEET\")).sheet1\n",
        "    data = sheet.get_all_records()\n",
        "    return pd.DataFrame(data)\n",
        "\n",
        "def load_from_csv():\n",
        "    csv_path = '../data/data.csv'  # Assuming the CSV file is in the same directory as the notebook\n",
        "    if not os.path.exists(csv_path):\n",
        "        raise FileNotFoundError(f\"The file {csv_path} does not exist.\")\n",
        "    return pd.read_csv(csv_path)\n",
        "\n",
        "def load_data():\n",
        "    if os.getenv(\"USE_GOOGLE_SHEETS\", \"false\").lower() == \"true\":\n",
        "        return load_from_google_sheets()\n",
        "    else:\n",
        "        return load_from_csv()\n",
        "\n",
        "# Load the financial data\n",
        "df = load_data()\n",
        "\n",
        "# Display the first few rows of the dataframe\n",
        "print(df.head())\n",
        "\n",
        "# Display basic information about the dataframe\n",
        "print(df.info())"
      ]
    },
    {
      "cell_type": "markdown",
      "metadata": {
        "id": "OodtiZeWtaIo"
      },
      "source": [
        "## Transaction Categorization\n",
        "\n",
        "Now, let's define functions to categorize the transactions using the OpenAI API."
      ]
    },
    {
      "cell_type": "code",
      "execution_count": null,
      "metadata": {
        "id": "3gT7PB0CtaIo",
        "outputId": "b30dbc04-ee9b-42f4-ad43-7a94f0b4ad3a"
      },
      "outputs": [
        {
          "name": "stdout",
          "output_type": "stream",
          "text": [
            "         Date                Description       Category Income/Expense  \\\n",
            "0  2024-09-01       Salary from ABC Corp         Income         Income   \n",
            "1  2024-09-02  Grocery shopping at Coles      Groceries        Expense   \n",
            "2  2024-09-03          Sydney Water Bill      Utilities        Expense   \n",
            "3  2024-09-04       Netflix Subscription  Entertainment        Expense   \n",
            "4  2024-09-05   Dinner at The Rocks Cafe     Dining Out        Expense   \n",
            "\n",
            "    Amount  \n",
            "0  6000.00  \n",
            "1   200.50  \n",
            "2    80.75  \n",
            "3    13.99  \n",
            "4    60.00  \n",
            "Unique categories:\n",
            "['Income' 'Groceries' 'Utilities' 'Entertainment' 'Dining Out'\n",
            " 'Transportation' 'Fitness' 'Accommodation' 'Miscellaneous' 'Investments'\n",
            " 'Insurance' 'Charity' 'Shopping' 'Travel' 'Electronics' 'Expense']\n"
          ]
        }
      ],
      "source": [
        "def categorize_transaction(description):\n",
        "    completion = openai.ChatCompletion.create(\n",
        "        model=\"gpt-4o-mini\",\n",
        "        messages=[\n",
        "            {\"role\": \"system\", \"content\": \"You are a helpful financial assistant. Categorize transactions into one of the following categories: Groceries, Utilities, Rent, Entertainment, Transportation, Dining Out, Miscellaneous, Health & Fitness, Housing, Investments, Insurance, Charity, and Income.\"},\n",
        "            {\"role\": \"user\", \"content\": f\"Categorize the following transaction: '{description}'. Respond with the category name only.\"}\n",
        "        ]\n",
        "    )\n",
        "    return completion.choices[0].message.content.strip()\n",
        "\n",
        "def categorize_transactions(df):\n",
        "    for index, row in df[df['Category'] == ''].iterrows():\n",
        "        category = categorize_transaction(row['Description'])\n",
        "        df.at[index, 'Category'] = category\n",
        "    return df\n",
        "\n",
        "# Categorize the transactions\n",
        "df = categorize_transactions(df)\n",
        "\n",
        "# Display the first few rows of the categorized dataframe\n",
        "print(df.head())\n",
        "\n",
        "# Show the unique categories\n",
        "print(\"Unique categories:\")\n",
        "print(df['Category'].unique())"
      ]
    },
    {
      "cell_type": "markdown",
      "metadata": {
        "id": "PZ4gv6mYtaIo"
      },
      "source": [
        "## Financial Summary\n",
        "\n",
        "Now that we have categorized our transactions, let's generate a financial summary using the OpenAI API."
      ]
    },
    {
      "cell_type": "code",
      "execution_count": null,
      "metadata": {
        "id": "2BZOF7k_taIo",
        "outputId": "84072f29-9943-466b-ba88-7ad6760f2e55"
      },
      "outputs": [
        {
          "name": "stdout",
          "output_type": "stream",
          "text": [
            "Financial Summary:\n",
            "**Financial Summary**\n",
            "\n",
            "- **Total Income:** $39,952.00\n",
            "- **Total Expenses:** $22,590.21\n",
            "- **Net Income:** $17,361.79 (Total Income - Total Expenses)\n",
            "\n",
            "**Spending by Category:**\n",
            "- Accommodation: $9,250.00\n",
            "- Charity: $900.00\n",
            "- Dining Out: $1,081.50\n",
            "- Electronics: $3,500.00\n",
            "- Entertainment: $581.96\n",
            "- Expense: $200.00\n",
            "- Fitness: $160.00\n",
            "- Groceries: $2,292.00\n",
            "- Insurance: $600.00\n",
            "- Miscellaneous: $370.00\n",
            "- Shopping: $1,205.00\n",
            "- Transportation: $693.00\n",
            "- Travel: $950.00\n",
            "- Utilities: $806.75\n",
            "\n",
            "**Key Insights:**\n",
            "- The net income indicates a strong financial position, with income exceeding expenses by a significant margin.\n",
            "- The largest spending categories are Accommodation and Electronics, which collectively account for a substantial portion of total expenses.\n"
          ]
        }
      ],
      "source": [
        "def generate_financial_summary(df):\n",
        "    total_spent = df[df['Income/Expense'] == 'Expense']['Amount'].sum()\n",
        "    total_income = df[df['Income/Expense'] == 'Income']['Amount'].sum()\n",
        "    category_spending = df[df['Income/Expense'] == 'Expense'].groupby('Category')['Amount'].sum()\n",
        "\n",
        "    completion = openai.ChatCompletion.create(\n",
        "        model=\"gpt-4o-mini\",\n",
        "        messages=[\n",
        "            {\"role\": \"system\", \"content\": \"You are a helpful financial assistant. Generate a concise financial summary based on the provided data.\"},\n",
        "            {\"role\": \"user\", \"content\": f\"Generate a financial summary based on the following data:\\n\"\n",
        "                                        f\"Total Income: ${total_income:.2f}\\n\"\n",
        "                                        f\"Total Expenses: ${total_spent:.2f}\\n\"\n",
        "                                        f\"Spending by category: {category_spending.to_dict()}\"}\n",
        "        ]\n",
        "    )\n",
        "    return completion.choices[0].message.content.strip()\n",
        "\n",
        "# Generate the financial summary\n",
        "summary = generate_financial_summary(df)\n",
        "\n",
        "print(\"Financial Summary:\")\n",
        "print(summary)"
      ]
    },
    {
      "cell_type": "markdown",
      "metadata": {
        "id": "a3dJ8xCAtaIp"
      },
      "source": [
        "## Personalized Financial Advice\n",
        "\n",
        "Let's generate some personalized financial advice based on the transaction data and some additional personal information."
      ]
    },
    {
      "cell_type": "code",
      "execution_count": null,
      "metadata": {
        "id": "U5sM4-wmtaIp",
        "outputId": "334f62ad-8417-4fe2-9684-0655329885ba"
      },
      "outputs": [
        {
          "name": "stdout",
          "output_type": "stream",
          "text": [
            "Personalized Financial Advice:\n",
            "Based on the transaction data you've provided, I will analyze your income and expenses, and then provide some personalized financial advice that aligns with your age, lifestyle, and hobbies.\n",
            "\n",
            "### Income Overview\n",
            "Your income consists of:\n",
            "\n",
            "- Regular salary from ABC Corp: $6,000 per month\n",
            "- From freelance work: $1,500 to $2,200 per month on average\n",
            "- Investment dividends: Approximately $250 to $280 per quarter\n",
            "- Other one-time income like gifts and bonuses.\n",
            "\n",
            "**Total Monthly Income Estimate:**\n",
            "- Monthly salary: $6,000\n",
            "- Freelance income (monthly average): $1,750 (based on the data)\n",
            "- Dividend income (monthly average): $70 (approximate quarterly average)\n",
            "\n",
            "**Total Monthly Income = $6,000 + $1,750 + $70 = $7,820**\n",
            "\n",
            "### Expense Overview\n",
            "Your expenses are categorized into various areas. Based on the provided data, here’s a rough breakdown of your average monthly expenses:\n",
            "\n",
            "1. **Housing (Rent):** $2,000\n",
            "2. **Utilities:** $110 (average)\n",
            "3. **Groceries:** $203\n",
            "4. **Transportation:** $55 (average)\n",
            "5. **Dining Out:** $61\n",
            "6. **Entertainment:** $61\n",
            "7. **Health insurance:** $150\n",
            "8. **Miscellaneous/Shopping:** $95\n",
            "9. **Charity:** $145\n",
            "10. **Fitness:** $40\n",
            "\n",
            "**Total Monthly Expenses Estimate:**\n",
            "- Housing: $2,000\n",
            "- Utilities: $110\n",
            "- Groceries: $203\n",
            "- Transportation: $55\n",
            "- Dining Out: $61\n",
            "- Entertainment: $61\n",
            "- Health Insurance: $150\n",
            "- Miscellaneous/Shopping: $95\n",
            "- Charity: $145\n",
            "- Fitness: $40\n",
            "\n",
            "**Total Monthly Expenses: $2,000 + $110 + $203 + $55 + $61 + $61 + $150 + $95 + $145 + $40 = $2,920**\n",
            "\n",
            "### Savings Overview\n",
            "**Monthly Savings:**\n",
            "- Total Income: $7,820\n",
            "- Total Expenses: $2,920\n",
            "- **Monthly Savings: $7,820 - $2,920 = $4,900**\n",
            "\n",
            "### Financial Advice\n",
            "\n",
            "1. **Budgeting:**\n",
            "   - With monthly expenses being approximately 37% of your income, you're in a good position.\n",
            "   - Consider implementing a 50/30/20 budgeting rule. Allocate 50% of your income to needs (like housing and groceries), 30% to wants (entertainment, dining out, etc.), and 20% to savings and debt repayment. Your current expense ratio allows you ample room to adjust towards this framework.\n",
            "\n",
            "2. **Increase Savings or Investments:**\n",
            "   - Currently saving around $4,900 monthly is impressive. Consider auto-investing a portion of your savings into retirement accounts (like a superannuation fund if you’re in Australia) or other investment vehicles (stocks, bonds, ETFs).\n",
            "   - Emergency Fund: Aim for at least 3 to 6 months’ worth of living expenses in an easily accessible account. This would mean saving $8,760 - $17,520.\n",
            "\n",
            "3. **Travel Savings:**\n",
            "   - Since traveling is a hobby, establishing a separate travel fund could help you enjoy trips without impacting your regular living expenses. This requires previous planning and dedicating a specific amount monthly.\n",
            "\n",
            "4. **Review Discretionary Spending:**\n",
            "   - While dining out and entertainment are enjoyable, consider setting a monthly cap on these categories. For example, aim for a dining out allowance of $300/month and stick to it to avoid overspending.\n",
            "\n",
            "5. **Digital and Subscription Services:**\n",
            "   - Assess monthly subscriptions like Netflix, Spotify, or any other digital services. If you find yourself not using them, consider downgrading or getting rid of them.\n",
            "\n",
            "6. **Investment in Personal Growth:**\n",
            "   - Since reading is a hobby, consider investing in books or courses that align with your career goals or personal interests. This could be a long-term investment in yourself.\n",
            "\n",
            "7. **Tax Planning:**\n",
            "   - Ensure you’re taking advantage of all potential work-related deductions, particularly in areas such as freelance work and professional development.\n",
            "\n",
            "8. **Charitable Giving:**\n",
            "   - You're already making charitable donations, which is commendable. Ensure that this aligns with your overall financial goals. If it feels right, you might consider integrating a fixed percentage for charitable causes into your budget.\n",
            "\n",
            "### Potential Areas for Improvement\n",
            "- A possible area for improvement is the reduction of dining and entertainment expenses if that's where you find your spending is higher than expected.\n",
            "- Increasing contributions to retirement or investment accounts, as well as prioritizing savings goals aligned with your lifestyle (like travel).\n",
            "\n",
            "### Conclusion\n",
            "Your financial situation shows sound management with the potential for growth and improvement. Adopting a structured budgeting system, being mindful of discretionary spending, and focusing on savings and investments can help you create a secure financial future while enjoying your lifestyle. Always consider revisiting your financial goals periodically to adapt to any changes in income or personal circumstances.\n"
          ]
        }
      ],
      "source": [
        "def generate_personalized_advice(df, age=None, lifestyle=None, hobbies=None):\n",
        "    transactions = df.to_string(index=False)\n",
        "\n",
        "    prompt = f\"\"\"\n",
        "    Based on the following transaction data:\n",
        "\n",
        "    {transactions}\n",
        "\n",
        "    And considering the following personal information:\n",
        "    Age: {age}\n",
        "    Lifestyle: {lifestyle}\n",
        "    Hobbies: {hobbies}\n",
        "\n",
        "    Please provide personalized financial advice. Include suggestions for budgeting, saving, and potential areas for improvement.\n",
        "    \"\"\"\n",
        "\n",
        "    response = openai.ChatCompletion.create(\n",
        "        model=\"gpt-4o-mini\",\n",
        "        messages=[\n",
        "            {\"role\": \"system\", \"content\": \"You are a helpful financial advisor.\"},\n",
        "            {\"role\": \"user\", \"content\": prompt}\n",
        "        ]\n",
        "    )\n",
        "\n",
        "    return response.choices[0].message.content\n",
        "\n",
        "# Generate personalized advice\n",
        "advice = generate_personalized_advice(df, age=30, lifestyle=\"Urban\", hobbies=\"Reading, Traveling\")\n",
        "\n",
        "print(\"Personalized Financial Advice:\")\n",
        "print(advice)"
      ]
    },
    {
      "cell_type": "markdown",
      "metadata": {
        "id": "LTegllajtaIp"
      },
      "source": [
        "## PDF Report Generation\n",
        "\n",
        "Now, let's create a function to generate a PDF report containing the financial summary and personalized advice."
      ]
    },
    {
      "cell_type": "markdown",
      "metadata": {
        "id": "Tpua6YoRtaIp"
      },
      "source": [
        "**Please note that this requires `wkhtmltopdf` to be installed on your system.**"
      ]
    },
    {
      "cell_type": "code",
      "execution_count": null,
      "metadata": {
        "id": "gaiWZ8o_taIp",
        "outputId": "d4d5bd3e-6a52-4280-db3d-a61f164ab556"
      },
      "outputs": [
        {
          "name": "stdout",
          "output_type": "stream",
          "text": [
            "PDF report generated: financial_report.pdf\n",
            "PDF report has been generated.\n"
          ]
        }
      ],
      "source": [
        "def create_pdf_report(summary, advice, output_path='financial_report.pdf'):\n",
        "    html_content = \"\"\"\n",
        "    <!DOCTYPE html>\n",
        "    <html>\n",
        "    <head>\n",
        "        <meta charset=\"UTF-8\">\n",
        "        <title>Financial Report</title>\n",
        "        <style>\n",
        "            body {{ font-family: Arial, sans-serif; line-height: 1.6; color: #333; }}\n",
        "            h1 {{ color: #2c3e50; text-align: center; }}\n",
        "            h2 {{ color: #34495e; }}\n",
        "            h3 {{ color: #2980b9; }}\n",
        "            .section {{ margin-bottom: 20px; }}\n",
        "            ul {{ padding-left: 20px; }}\n",
        "        </style>\n",
        "    </head>\n",
        "    <body>\n",
        "        <h1>Financial Report</h1>\n",
        "\n",
        "        <div class=\"section\">\n",
        "            <h2>Financial Summary</h2>\n",
        "            {0}\n",
        "        </div>\n",
        "\n",
        "        <div class=\"section\">\n",
        "            <h2>Personalized Financial Advice</h2>\n",
        "            {1}\n",
        "        </div>\n",
        "    </body>\n",
        "    </html>\n",
        "    \"\"\".format(\n",
        "        summary.replace('**', '').replace('###', '<h3>').replace('\\n', '<br>'),\n",
        "        advice.replace('**', '').replace('###', '<h3>').replace('\\n', '<br>')\n",
        "    )\n",
        "\n",
        "    options = {\n",
        "        'page-size': 'A4',\n",
        "        'margin-top': '0.75in',\n",
        "        'margin-right': '0.75in',\n",
        "        'margin-bottom': '0.75in',\n",
        "        'margin-left': '0.75in',\n",
        "        'encoding': \"UTF-8\",\n",
        "    }\n",
        "\n",
        "    pdfkit.from_string(html_content, output_path, options=options)\n",
        "    print(f\"PDF report generated: {output_path}\")\n",
        "\n",
        "# Generate the PDF report\n",
        "create_pdf_report(summary, advice)\n",
        "\n",
        "print(\"PDF report has been generated.\")"
      ]
    },
    {
      "cell_type": "markdown",
      "metadata": {
        "id": "Pbpp1qUAtaIp"
      },
      "source": [
        "## Conclusion\n",
        "\n",
        "In this notebook, we've walked through the process of loading financial data, categorizing transactions, generating a financial summary, providing personalized financial advice, and creating a PDF report. All the necessary code is contained within this notebook, making it easy to run and modify without external dependencies.\n",
        "\n",
        "You can further extend this analysis by:\n",
        "1. Visualizing spending patterns using matplotlib or seaborn\n",
        "2. Implementing more advanced financial metrics\n",
        "3. Exploring trends over time in the financial data\n",
        "4. Customizing the PDF report layout and content\n",
        "\n",
        "Feel free to experiment with the code and adapt it to your specific financial analysis needs!"
      ]
    },
    {
      "cell_type": "markdown",
      "metadata": {
        "id": "ZjCGQi03taIp"
      },
      "source": []
    }
  ],
  "metadata": {
    "kernelspec": {
      "display_name": "Python 3",
      "language": "python",
      "name": "python3"
    },
    "language_info": {
      "codemirror_mode": {
        "name": "ipython",
        "version": 3
      },
      "file_extension": ".py",
      "mimetype": "text/x-python",
      "name": "python",
      "nbconvert_exporter": "python",
      "pygments_lexer": "ipython3",
      "version": "3.9.11"
    },
    "colab": {
      "provenance": []
    }
  },
  "nbformat": 4,
  "nbformat_minor": 0
}