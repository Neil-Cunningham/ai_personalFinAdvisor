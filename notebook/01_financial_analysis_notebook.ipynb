{
  "cells": [
    {
      "cell_type": "markdown",
      "metadata": {
        "id": "MEjKohCYtaIi"
      },
      "source": [
        "# Self-Contained Financial Analysis and Insights Notebook\n",
        "\n",
        "This notebook contains all the necessary code to analyze financial data, categorize transactions, generate insights using AI, and create PDF reports. No external .py files are required.\n",
        "\n",
        "## License\n",
        "\n",
        "This notebook is licensed under the GPLv3 License. See the LICENSE file for more details.\n",
        "- Copyright (C) 2024 [Vincent Koc](https://github.com/vincentkoc)\n",
        "- Copyright (C) 2024 [Hung Nguyen](https://github.com/hung-ngm)\n",
        "## Setup\n",
        "\n",
        "First, let's import the necessary libraries and set up our environment."
      ]
    },
    {
      "cell_type": "code",
      "execution_count": null,
      "metadata": {
        "id": "VJjdEVOqtaIl"
      },
      "outputs": [],
      "source": [
        "## Install requsuite packages\n",
        "%pip install python-dotenv pandas gspread oauth2client openai==0.28.0 pdfkit gradio"
      ]
    },
    {
      "cell_type": "code",
      "source": [
        "## Make a project directory within colab for this project and MANUALLY upload the .env file to it\n",
        "import os\n",
        "from google.colab import files\n",
        "\n",
        "uploaded = files.upload()  # Prompts you to upload files from your local machine\n",
        "\n",
        "os.makedirs(\"/content/ai_personalFinAdvisor\", exist_ok=True)\n",
        "for filename in uploaded.keys():\n",
        "    os.rename(filename, f\"/content/ai_personalFinAdvisor/.env\")\n",
        "\n",
        "os.chdir(\"/content/ai_personalFinAdvisor\")\n",
        "print(f\"Changed Working Directory: {os.getcwd()}\")"
      ],
      "metadata": {
        "id": "-qUQhuawEJmO"
      },
      "execution_count": null,
      "outputs": []
    },
    {
      "cell_type": "code",
      "execution_count": null,
      "metadata": {
        "id": "AMujSy9qtaIn"
      },
      "outputs": [],
      "source": [
        "## Load .env variables and setup the OpenAI API key\n",
        "import pandas as pd\n",
        "import openai\n",
        "from dotenv import load_dotenv\n",
        "import pdfkit\n",
        "\n",
        "# Load environment variables\n",
        "load_dotenv()\n",
        "\n",
        "# Set up OpenAI API key\n",
        "openai.api_key = os.getenv(\"OPENAI_API_KEY\")\n",
        "\n",
        "# Check if the API key is set\n",
        "if not openai.api_key:\n",
        "    raise ValueError(\"OpenAI API key is not set. Please check your .env file.\")"
      ]
    },
    {
      "cell_type": "markdown",
      "metadata": {
        "id": "XnFB37wytaIn"
      },
      "source": [
        "## Data Extraction\n",
        "\n",
        "Let's define functions to load our financial data from either a CSV file or Google Sheets."
      ]
    },
    {
      "cell_type": "code",
      "source": [
        "## Make a project 'data' sub-directory within colab for this project and MANUALLY upload the data file to it\n",
        "from google.colab import files\n",
        "\n",
        "uploaded = files.upload()  # Prompts you to upload files from your local machine\n",
        "\n",
        "os.makedirs(\"/content/ai_personalFinAdvisor/data\", exist_ok=True)\n",
        "for filename in uploaded.keys():\n",
        "    os.rename(filename, f\"/content/ai_personalFinAdvisor/data/nab_cRCard_2023-24.csv\")\n",
        "\n",
        "os.chdir(\"/content/ai_personalFinAdvisor\")\n",
        "print(f\"Changed Working Directory: {os.getcwd()}\")"
      ],
      "metadata": {
        "id": "DzMvY-4LGmYP"
      },
      "execution_count": null,
      "outputs": []
    },
    {
      "cell_type": "code",
      "source": [
        "## Load and examine the financial data\n",
        "import gspread\n",
        "from oauth2client.service_account import ServiceAccountCredentials\n",
        "\n",
        "def load_from_csv():\n",
        "    csv_path = './data/nab_cRCard_2023-24.csv'  # Adjust path as needed\n",
        "    absolute_path = os.path.abspath(csv_path)  # Get the absolute path (for debugging)\n",
        "\n",
        "    if not os.path.exists(csv_path):\n",
        "        raise FileNotFoundError(f\"The file {absolute_path} does not exist.\")\n",
        "\n",
        "    return pd.read_csv(csv_path)\n",
        "\n",
        "# # Load the financial data\n",
        "df = load_from_csv()\n",
        "\n",
        "# # Display the first few rows of the dataframe\n",
        "print(df.head())\n",
        "\n",
        "# # Display basic information about the dataframe\n",
        "print(df.info())"
      ],
      "metadata": {
        "id": "4lAlExrhVmqR"
      },
      "execution_count": null,
      "outputs": []
    },
    {
      "cell_type": "code",
      "source": [
        "## Clean transaction data\n",
        "df = df.rename(columns={\"Category\": \"category_existing\"})\n",
        "df['category_existing'] = df['category_existing'].replace([\"CafÃ© & coffee\", \"Café & coffee\"], \"Cafe & coffee\")\n",
        "df['category_enhanced'] = pd.NA  # Creates an empty column with null values"
      ],
      "metadata": {
        "id": "43Fp_Gy4uca7"
      },
      "execution_count": null,
      "outputs": []
    },
    {
      "cell_type": "code",
      "source": [
        "# # Display the first few rows of the dataframe\n",
        "print(df.head())"
      ],
      "metadata": {
        "id": "OiXRzmqmz_kA"
      },
      "execution_count": null,
      "outputs": []
    },
    {
      "cell_type": "markdown",
      "metadata": {
        "id": "OodtiZeWtaIo"
      },
      "source": [
        "## Transaction Categorization\n",
        "\n",
        "Now, let's define functions to categorize the transactions using the OpenAI API."
      ]
    },
    {
      "cell_type": "code",
      "execution_count": null,
      "metadata": {
        "id": "3gT7PB0CtaIo"
      },
      "outputs": [],
      "source": [
        "##\n",
        "\n",
        "def categorize_transaction(description):\n",
        "    completion = openai.ChatCompletion.create(\n",
        "        model=\"gpt-4o-mini\",\n",
        "        messages=[\n",
        "            {\"role\": \"system\", \"content\": \"You are a helpful financial assistant. Categorize transactions into one of the following categories: Medical, Insurance, Groceries, Restaurants & takeaway, CafÃ© & coffee, Other shopping, Subscriptions, Parking & tolls, Media, Uncategorised, Fuel, Alcohol, Vehicle expenses, Personal care, Education, Public transport, Electronics & technology, Home improvements, Internal transfers, Phone & internet, Donations, Clothing & accessories, Attractions & events, Hobbies, Utilities, Pets, Government, Refund, Travel expenses, Homeware, Services, Taxis & ride shares, Gym & fitness, Fees, Accommodation, Tobacco, Gifts and Flights.\"},\n",
        "            # Groceries, Utilities, Rent, Entertainment, Transportation, Dining Out, Miscellaneous, Health & Fitness, Housing, Investments, Insurance, Charity, and Income.\"},\n",
        "            {\"role\": \"user\", \"content\": f\"Categorize the following transaction: '{description}'. Respond with the category name only.\"}\n",
        "        ]\n",
        "    )\n",
        "    return completion.choices[0].message.content.strip()\n",
        "\n",
        "def categorize_transactions(df):\n",
        "    for index, row in df[df['category_existing'].isin(['Uncategorised', 'Other shopping'])].iterrows(): # df[df['category_enhanced'].isna()] /// # df[df['Category'] == '']\n",
        "        transaction_text = f\"{row['Transaction Details']} | {row['Merchant Name']}\" if pd.notna(row['Merchant Name']) else row['Transaction Details']\n",
        "        category = categorize_transaction(transaction_text)\n",
        "        # category = categorize_transaction(row['Transaction Details'])\n",
        "        df.at[index, 'category_enhanced'] = category # Category\n",
        "    return df\n",
        "\n",
        "# Categorize the transactions\n",
        "df = categorize_transactions(df)\n",
        "\n",
        "# Display the first few rows of the categorized dataframe\n",
        "print(df.head(18))\n",
        "\n",
        "# Show the unique categories\n",
        "print(\"Unique categories:\")\n",
        "print(df['category_enhanced'].unique()) # 'Category'"
      ]
    },
    {
      "cell_type": "code",
      "source": [
        "print(df.head(18))"
      ],
      "metadata": {
        "id": "2rupyMyj3jfI"
      },
      "execution_count": null,
      "outputs": []
    },
    {
      "cell_type": "code",
      "source": [
        "csv_filename = \"output_transactionsCategorised.csv\"\n",
        "df.to_csv(csv_filename, index=False)  # Save CSV without index\n",
        "\n",
        "from google.colab import files\n",
        "files.download(csv_filename)\n"
      ],
      "metadata": {
        "id": "3utCDKGyZJEE"
      },
      "execution_count": null,
      "outputs": []
    },
    {
      "cell_type": "markdown",
      "metadata": {
        "id": "PZ4gv6mYtaIo"
      },
      "source": [
        "## Financial Summary\n",
        "\n",
        "Now that we have categorized our transactions, let's generate a financial summary using the OpenAI API."
      ]
    },
    {
      "cell_type": "code",
      "source": [
        "def generate_financial_summary(df):\n",
        "    # Filter only expenses (negative amounts)\n",
        "    expense_df = df[df['Amount'] < 0]\n",
        "\n",
        "    # Calculate total spent\n",
        "    total_spent = expense_df['Amount'].sum()\n",
        "\n",
        "    # Group expenses by category\n",
        "    category_spending = expense_df.groupby('category_existing')['Amount'].sum()\n",
        "\n",
        "    # Generate summary using OpenAI GPT\n",
        "    completion = openai.ChatCompletion.create(\n",
        "        model=\"gpt-4o-mini\",\n",
        "        messages=[\n",
        "            {\"role\": \"system\", \"content\": \"You are a helpful financial assistant. Generate a concise financial summary based on the provided expense data.\"},\n",
        "            {\"role\": \"user\", \"content\": f\"Generate a financial summary based on the following data:\\n\"\n",
        "                                        f\"Total Expenses: ${total_spent:.2f}\\n\"\n",
        "                                        f\"Spending by category: {category_spending.to_dict()}\"}\n",
        "        ]\n",
        "    )\n",
        "    return completion.choices[0].message.content.strip()\n",
        "\n",
        "# Generate the financial summary\n",
        "summary = generate_financial_summary(df)\n",
        "\n",
        "print(\"Financial Summary:\")\n",
        "print(summary)"
      ],
      "metadata": {
        "id": "L6ISQTGzL7lB"
      },
      "execution_count": null,
      "outputs": []
    },
    {
      "cell_type": "markdown",
      "metadata": {
        "id": "a3dJ8xCAtaIp"
      },
      "source": [
        "## Personalized Financial Advice\n",
        "\n",
        "Let's generate some personalized financial advice based on the transaction data and some additional personal information."
      ]
    },
    {
      "cell_type": "code",
      "execution_count": null,
      "metadata": {
        "id": "U5sM4-wmtaIp"
      },
      "outputs": [],
      "source": [
        "def generate_personalized_advice(df, age=None, lifestyle=None, hobbies=None):\n",
        "    transactions = df.to_string(index=False)\n",
        "\n",
        "    prompt = f\"\"\"\n",
        "    Based on the following transaction data:\n",
        "\n",
        "    {transactions}\n",
        "\n",
        "    And considering the following personal information:\n",
        "    Age: {age}\n",
        "    Lifestyle: {lifestyle}\n",
        "    Hobbies: {hobbies}\n",
        "\n",
        "    Please provide personalized financial advice. Include suggestions for budgeting, saving, and potential areas for improvement.\n",
        "    \"\"\"\n",
        "\n",
        "    response = openai.ChatCompletion.create(\n",
        "        model=\"gpt-4o-mini\",\n",
        "        messages=[\n",
        "            {\"role\": \"system\", \"content\": \"You are a helpful financial advisor.\"},\n",
        "            {\"role\": \"user\", \"content\": prompt}\n",
        "        ]\n",
        "    )\n",
        "\n",
        "    return response.choices[0].message.content\n",
        "\n",
        "# Generate personalized advice\n",
        "advice = generate_personalized_advice(df, age=55, lifestyle=\"Urban\", hobbies=\"Surfing, Trekking, Skateboarding\")\n",
        "\n",
        "print(\"Personalized Financial Advice:\")\n",
        "print(advice)"
      ]
    },
    {
      "cell_type": "markdown",
      "metadata": {
        "id": "LTegllajtaIp"
      },
      "source": [
        "## PDF Report Generation\n",
        "\n",
        "Now, let's create a function to generate a PDF report containing the financial summary and personalized advice."
      ]
    },
    {
      "cell_type": "code",
      "source": [
        "!apt-get install -y wkhtmltopdf"
      ],
      "metadata": {
        "id": "pdXqOPl6SEwA"
      },
      "execution_count": null,
      "outputs": []
    },
    {
      "cell_type": "code",
      "source": [
        "!which wkhtmltopdf"
      ],
      "metadata": {
        "id": "DgkZPQK5SROi"
      },
      "execution_count": null,
      "outputs": []
    },
    {
      "cell_type": "code",
      "execution_count": null,
      "metadata": {
        "id": "gaiWZ8o_taIp"
      },
      "outputs": [],
      "source": [
        "def create_pdf_report(summary, advice, output_path='financial_report.pdf'):\n",
        "    html_content = \"\"\"\n",
        "    <!DOCTYPE html>\n",
        "    <html>\n",
        "    <head>\n",
        "        <meta charset=\"UTF-8\">\n",
        "        <title>Financial Report</title>\n",
        "        <style>\n",
        "            body {{ font-family: Arial, sans-serif; line-height: 1.6; color: #333; }}\n",
        "            h1 {{ color: #2c3e50; text-align: center; }}\n",
        "            h2 {{ color: #34495e; }}\n",
        "            h3 {{ color: #2980b9; }}\n",
        "            .section {{ margin-bottom: 20px; }}\n",
        "            ul {{ padding-left: 20px; }}\n",
        "        </style>\n",
        "    </head>\n",
        "    <body>\n",
        "        <h1>Financial Report</h1>\n",
        "\n",
        "        <div class=\"section\">\n",
        "            <h2>Financial Summary</h2>\n",
        "            {0}\n",
        "        </div>\n",
        "\n",
        "        <div class=\"section\">\n",
        "            <h2>Personalized Financial Advice</h2>\n",
        "            {1}\n",
        "        </div>\n",
        "    </body>\n",
        "    </html>\n",
        "    \"\"\".format(\n",
        "        summary.replace('**', '').replace('###', '<h3>').replace('\\n', '<br>'),\n",
        "        advice.replace('**', '').replace('###', '<h3>').replace('\\n', '<br>')\n",
        "    )\n",
        "\n",
        "    options = {\n",
        "        'page-size': 'A4',\n",
        "        'margin-top': '0.75in',\n",
        "        'margin-right': '0.75in',\n",
        "        'margin-bottom': '0.75in',\n",
        "        'margin-left': '0.75in',\n",
        "        'encoding': \"UTF-8\",\n",
        "    }\n",
        "\n",
        "    pdfkit.from_string(html_content, output_path, options=options)\n",
        "    print(f\"PDF report generated: {output_path}\")\n",
        "\n",
        "# Generate the PDF report\n",
        "create_pdf_report(summary, advice)\n",
        "\n",
        "print(\"PDF report has been generated.\")"
      ]
    },
    {
      "cell_type": "code",
      "source": [
        "from google.colab import files\n",
        "\n",
        "files.download(\"financial_report.pdf\")  # Replace with your actual PDF filename\n"
      ],
      "metadata": {
        "id": "uQBz6MvAVJaK"
      },
      "execution_count": null,
      "outputs": []
    }
  ],
  "metadata": {
    "kernelspec": {
      "display_name": "Python 3",
      "language": "python",
      "name": "python3"
    },
    "language_info": {
      "codemirror_mode": {
        "name": "ipython",
        "version": 3
      },
      "file_extension": ".py",
      "mimetype": "text/x-python",
      "name": "python",
      "nbconvert_exporter": "python",
      "pygments_lexer": "ipython3",
      "version": "3.9.11"
    },
    "colab": {
      "provenance": []
    }
  },
  "nbformat": 4,
  "nbformat_minor": 0
}