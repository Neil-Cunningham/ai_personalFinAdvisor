{
 "cells": [
  {
   "cell_type": "markdown",
   "metadata": {},
   "source": [
    "# Self-Contained Financial Analysis and Insights Notebook\n",
    "\n",
    "This notebook contains all the necessary code to analyze financial data, categorize transactions, generate insights using AI, and create PDF reports. No external .py files are required.\n",
    "\n",
    "## License\n",
    "\n",
    "This notebook is licensed under the GPLv3 License. See the LICENSE file for more details.\n",
    "- Copyright (C) 2024 [Vincent Koc](https://github.com/vincentkoc)\n",
    "- Copyright (C) 2024 [Hung Nguyen](https://github.com/hung-ngm)\n",
    "## Setup\n",
    "\n",
    "First, let's import the necessary libraries and set up our environment."
   ]
  },
  {
   "cell_type": "code",
   "execution_count": 2,
   "metadata": {},
   "outputs": [
    {
     "name": "stdout",
     "output_type": "stream",
     "text": [
     ]
    }
   ],
   "source": [
    "%pip install python-dotenv pandas gspread oauth2client openai==0.28.0 pdfkit gradio"
   ]
  },
  {
   "cell_type": "code",
   "execution_count": 3,
   "metadata": {},
   "outputs": [],
   "source": [
    "import os\n",
    "import pandas as pd\n",
    "import openai\n",
    "from dotenv import load_dotenv\n",
    "import pdfkit\n",
    "\n",
    "# Load environment variables\n",
    "load_dotenv()\n",
    "\n",
    "# Set up OpenAI API key\n",
    "openai.api_key = os.getenv(\"OPENAI_API_KEY\")\n",
    "\n",
    "# Check if the API key is set\n",
    "if not openai.api_key:\n",
    "    raise ValueError(\"OpenAI API key is not set. Please check your .env file.\")"
   ]
  },
  {
   "cell_type": "markdown",
   "metadata": {},
   "source": [
    "## Data Extraction\n",
    "\n",
    "Let's define functions to load our financial data from either a CSV file or Google Sheets."
   ]
  },
  {
   "cell_type": "code",
   "execution_count": 4,
   "metadata": {},
   "outputs": [
    {
     "name": "stdout",
     "output_type": "stream",
     "text": [
      "         Date                Description       Category Income/Expense  \\\n",
      "0  2024-09-01       Salary from ABC Corp         Income         Income   \n",
      "1  2024-09-02  Grocery shopping at Coles      Groceries        Expense   \n",
      "2  2024-09-03          Sydney Water Bill      Utilities        Expense   \n",
      "3  2024-09-04       Netflix Subscription  Entertainment        Expense   \n",
      "4  2024-09-05   Dinner at The Rocks Cafe     Dining Out        Expense   \n",
      "\n",
      "    Amount  \n",
      "0  6000.00  \n",
      "1   200.50  \n",
      "2    80.75  \n",
      "3    13.99  \n",
      "4    60.00  \n",
      "<class 'pandas.core.frame.DataFrame'>\n",
      "RangeIndex: 121 entries, 0 to 120\n",
      "Data columns (total 5 columns):\n",
      " #   Column          Non-Null Count  Dtype  \n",
      "---  ------          --------------  -----  \n",
      " 0   Date            121 non-null    object \n",
      " 1   Description     121 non-null    object \n",
      " 2   Category        121 non-null    object \n",
      " 3   Income/Expense  121 non-null    object \n",
      " 4   Amount          121 non-null    float64\n",
      "dtypes: float64(1), object(4)\n",
      "memory usage: 4.9+ KB\n",
      "None\n"
     ]
    }
   ],
   "source": [
    "import gspread\n",
    "from oauth2client.service_account import ServiceAccountCredentials\n",
    "\n",
    "def load_from_google_sheets():\n",
    "    scope = [\"https://spreadsheets.google.com/feeds\", \"https://www.googleapis.com/auth/drive\"]\n",
    "    creds = ServiceAccountCredentials.from_json_keyfile_name(os.getenv(\"GOOGLE_APPLICATION_CREDENTIALS\"), scope)\n",
    "    client = gspread.authorize(creds)\n",
    "\n",
    "    sheet = client.open_by_url(os.getenv(\"DUMMY_DATA_SPREADSHEET\")).sheet1\n",
    "    data = sheet.get_all_records()\n",
    "    return pd.DataFrame(data)\n",
    "\n",
    "def load_from_csv():\n",
    "    csv_path = '../data/data.csv'  # Assuming the CSV file is in the same directory as the notebook\n",
    "    if not os.path.exists(csv_path):\n",
    "        raise FileNotFoundError(f\"The file {csv_path} does not exist.\")\n",
    "    return pd.read_csv(csv_path)\n",
    "\n",
    "def load_data():\n",
    "    if os.getenv(\"USE_GOOGLE_SHEETS\", \"false\").lower() == \"true\":\n",
    "        return load_from_google_sheets()\n",
    "    else:\n",
    "        return load_from_csv()\n",
    "\n",
    "# Load the financial data\n",
    "df = load_data()\n",
    "\n",
    "# Display the first few rows of the dataframe\n",
    "print(df.head())\n",
    "\n",
    "# Display basic information about the dataframe\n",
    "print(df.info())"
   ]
  },
  {
   "cell_type": "markdown",
   "metadata": {},
   "source": [
    "## Transaction Categorization\n",
    "\n",
    "Now, let's define functions to categorize the transactions using the OpenAI API."
   ]
  },
  {
   "cell_type": "code",
   "execution_count": 5,
   "metadata": {},
   "outputs": [
    {
     "name": "stdout",
     "output_type": "stream",
     "text": [
      "         Date                Description       Category Income/Expense  \\\n",
      "0  2024-09-01       Salary from ABC Corp         Income         Income   \n",
      "1  2024-09-02  Grocery shopping at Coles      Groceries        Expense   \n",
      "2  2024-09-03          Sydney Water Bill      Utilities        Expense   \n",
      "3  2024-09-04       Netflix Subscription  Entertainment        Expense   \n",
      "4  2024-09-05   Dinner at The Rocks Cafe     Dining Out        Expense   \n",
      "\n",
      "    Amount  \n",
      "0  6000.00  \n",
      "1   200.50  \n",
      "2    80.75  \n",
      "3    13.99  \n",
      "4    60.00  \n",
      "Unique categories:\n",
      "['Income' 'Groceries' 'Utilities' 'Entertainment' 'Dining Out'\n",
      " 'Transportation' 'Fitness' 'Accommodation' 'Miscellaneous' 'Investments'\n",
      " 'Insurance' 'Charity' 'Shopping' 'Travel' 'Electronics' 'Expense']\n"
     ]
    }
   ],
   "source": [
    "def categorize_transaction(description):\n",
    "    completion = openai.ChatCompletion.create(\n",
    "        model=\"gpt-4o-mini\",\n",
    "        messages=[\n",
    "            {\"role\": \"system\", \"content\": \"You are a helpful financial assistant. Categorize transactions into one of the following categories: Groceries, Utilities, Rent, Entertainment, Transportation, Dining Out, Miscellaneous, Health & Fitness, Housing, Investments, Insurance, Charity, and Income.\"},\n",
    "            {\"role\": \"user\", \"content\": f\"Categorize the following transaction: '{description}'. Respond with the category name only.\"}\n",
    "        ]\n",
    "    )\n",
    "    return completion.choices[0].message.content.strip()\n",
    "\n",
    "def categorize_transactions(df):\n",
    "    for index, row in df[df['Category'] == ''].iterrows():\n",
    "        category = categorize_transaction(row['Description'])\n",
    "        df.at[index, 'Category'] = category\n",
    "    return df\n",
    "\n",
    "# Categorize the transactions\n",
    "df = categorize_transactions(df)\n",
    "\n",
    "# Display the first few rows of the categorized dataframe\n",
    "print(df.head())\n",
    "\n",
    "# Show the unique categories\n",
    "print(\"Unique categories:\")\n",
    "print(df['Category'].unique())"
   ]
  },
  {
   "cell_type": "markdown",
   "metadata": {},
   "source": [
    "## Financial Summary\n",
    "\n",
    "Now that we have categorized our transactions, let's generate a financial summary using the OpenAI API."
   ]
  },
  {
   "cell_type": "code",
   "execution_count": 6,
   "metadata": {},
   "outputs": [
    {
     "name": "stdout",
     "output_type": "stream",
     "text": [
      "Financial Summary:\n",
      "**Financial Summary**\n",
      "\n",
      "- **Total Income:** $39,952.00\n",
      "- **Total Expenses:** $22,590.21\n",
      "- **Net Income:** $17,361.79 (Total Income - Total Expenses)\n",
      "\n",
      "**Spending by Category:**\n",
      "- Accommodation: $9,250.00\n",
      "- Charity: $900.00\n",
      "- Dining Out: $1,081.50\n",
      "- Electronics: $3,500.00\n",
      "- Entertainment: $581.96\n",
      "- Expense: $200.00\n",
      "- Fitness: $160.00\n",
      "- Groceries: $2,292.00\n",
      "- Insurance: $600.00\n",
      "- Miscellaneous: $370.00\n",
      "- Shopping: $1,205.00\n",
      "- Transportation: $693.00\n",
      "- Travel: $950.00\n",
      "- Utilities: $806.75\n",
      "\n",
      "**Key Insights:**\n",
      "- The net income indicates a strong financial position, with income exceeding expenses by a significant margin.\n",
      "- The largest spending categories are Accommodation and Electronics, which collectively account for a substantial portion of total expenses.\n"
     ]
    }
   ],
   "source": [
    "def generate_financial_summary(df):\n",
    "    total_spent = df[df['Income/Expense'] == 'Expense']['Amount'].sum()\n",
    "    total_income = df[df['Income/Expense'] == 'Income']['Amount'].sum()\n",
    "    category_spending = df[df['Income/Expense'] == 'Expense'].groupby('Category')['Amount'].sum()\n",
    "\n",
    "    completion = openai.ChatCompletion.create(\n",
    "        model=\"gpt-4o-mini\",\n",
    "        messages=[\n",
    "            {\"role\": \"system\", \"content\": \"You are a helpful financial assistant. Generate a concise financial summary based on the provided data.\"},\n",
    "            {\"role\": \"user\", \"content\": f\"Generate a financial summary based on the following data:\\n\"\n",
    "                                        f\"Total Income: ${total_income:.2f}\\n\"\n",
    "                                        f\"Total Expenses: ${total_spent:.2f}\\n\"\n",
    "                                        f\"Spending by category: {category_spending.to_dict()}\"}\n",
    "        ]\n",
    "    )\n",
    "    return completion.choices[0].message.content.strip()\n",
    "\n",
    "# Generate the financial summary\n",
    "summary = generate_financial_summary(df)\n",
    "\n",
    "print(\"Financial Summary:\")\n",
    "print(summary)"
   ]
  },
  {
   "cell_type": "markdown",
   "metadata": {},
   "source": [
    "## Personalized Financial Advice\n",
    "\n",
    "Let's generate some personalized financial advice based on the transaction data and some additional personal information."
   ]
  },
  {
   "cell_type": "code",
   "execution_count": 7,
   "metadata": {},
   "outputs": [
    {
     "name": "stdout",
     "output_type": "stream",
     "text": [
      "Personalized Financial Advice:\n",
      "Based on the transaction data you've provided, I will analyze your income and expenses, and then provide some personalized financial advice that aligns with your age, lifestyle, and hobbies.\n",
      "\n",
      "### Income Overview\n",
      "Your income consists of:\n",
      "\n",
      "- Regular salary from ABC Corp: $6,000 per month\n",
      "- From freelance work: $1,500 to $2,200 per month on average\n",
      "- Investment dividends: Approximately $250 to $280 per quarter\n",
      "- Other one-time income like gifts and bonuses.\n",
      "\n",
      "**Total Monthly Income Estimate:**\n",
      "- Monthly salary: $6,000\n",
      "- Freelance income (monthly average): $1,750 (based on the data)\n",
      "- Dividend income (monthly average): $70 (approximate quarterly average)\n",
      "\n",
      "**Total Monthly Income = $6,000 + $1,750 + $70 = $7,820**\n",
      "\n",
      "### Expense Overview\n",
      "Your expenses are categorized into various areas. Based on the provided data, here’s a rough breakdown of your average monthly expenses:\n",
      "\n",
      "1. **Housing (Rent):** $2,000\n",
      "2. **Utilities:** $110 (average)\n",
      "3. **Groceries:** $203\n",
      "4. **Transportation:** $55 (average)\n",
      "5. **Dining Out:** $61\n",
      "6. **Entertainment:** $61\n",
      "7. **Health insurance:** $150\n",
      "8. **Miscellaneous/Shopping:** $95\n",
      "9. **Charity:** $145\n",
      "10. **Fitness:** $40\n",
      "\n",
      "**Total Monthly Expenses Estimate:**\n",
      "- Housing: $2,000\n",
      "- Utilities: $110\n",
      "- Groceries: $203\n",
      "- Transportation: $55\n",
      "- Dining Out: $61\n",
      "- Entertainment: $61\n",
      "- Health Insurance: $150\n",
      "- Miscellaneous/Shopping: $95\n",
      "- Charity: $145\n",
      "- Fitness: $40\n",
      "\n",
      "**Total Monthly Expenses: $2,000 + $110 + $203 + $55 + $61 + $61 + $150 + $95 + $145 + $40 = $2,920**\n",
      "\n",
      "### Savings Overview\n",
      "**Monthly Savings:**\n",
      "- Total Income: $7,820\n",
      "- Total Expenses: $2,920\n",
      "- **Monthly Savings: $7,820 - $2,920 = $4,900**\n",
      "\n",
      "### Financial Advice\n",
      "\n",
      "1. **Budgeting:**\n",
      "   - With monthly expenses being approximately 37% of your income, you're in a good position.\n",
      "   - Consider implementing a 50/30/20 budgeting rule. Allocate 50% of your income to needs (like housing and groceries), 30% to wants (entertainment, dining out, etc.), and 20% to savings and debt repayment. Your current expense ratio allows you ample room to adjust towards this framework.\n",
      "\n",
      "2. **Increase Savings or Investments:**\n",
      "   - Currently saving around $4,900 monthly is impressive. Consider auto-investing a portion of your savings into retirement accounts (like a superannuation fund if you’re in Australia) or other investment vehicles (stocks, bonds, ETFs).\n",
      "   - Emergency Fund: Aim for at least 3 to 6 months’ worth of living expenses in an easily accessible account. This would mean saving $8,760 - $17,520.\n",
      "\n",
      "3. **Travel Savings:**\n",
      "   - Since traveling is a hobby, establishing a separate travel fund could help you enjoy trips without impacting your regular living expenses. This requires previous planning and dedicating a specific amount monthly.\n",
      "\n",
      "4. **Review Discretionary Spending:**\n",
      "   - While dining out and entertainment are enjoyable, consider setting a monthly cap on these categories. For example, aim for a dining out allowance of $300/month and stick to it to avoid overspending.\n",
      "\n",
      "5. **Digital and Subscription Services:**\n",
      "   - Assess monthly subscriptions like Netflix, Spotify, or any other digital services. If you find yourself not using them, consider downgrading or getting rid of them.\n",
      "\n",
      "6. **Investment in Personal Growth:**\n",
      "   - Since reading is a hobby, consider investing in books or courses that align with your career goals or personal interests. This could be a long-term investment in yourself.\n",
      "\n",
      "7. **Tax Planning:**\n",
      "   - Ensure you’re taking advantage of all potential work-related deductions, particularly in areas such as freelance work and professional development.\n",
      "\n",
      "8. **Charitable Giving:**\n",
      "   - You're already making charitable donations, which is commendable. Ensure that this aligns with your overall financial goals. If it feels right, you might consider integrating a fixed percentage for charitable causes into your budget.\n",
      "\n",
      "### Potential Areas for Improvement\n",
      "- A possible area for improvement is the reduction of dining and entertainment expenses if that's where you find your spending is higher than expected.\n",
      "- Increasing contributions to retirement or investment accounts, as well as prioritizing savings goals aligned with your lifestyle (like travel).\n",
      "\n",
      "### Conclusion\n",
      "Your financial situation shows sound management with the potential for growth and improvement. Adopting a structured budgeting system, being mindful of discretionary spending, and focusing on savings and investments can help you create a secure financial future while enjoying your lifestyle. Always consider revisiting your financial goals periodically to adapt to any changes in income or personal circumstances.\n"
     ]
    }
   ],
   "source": [
    "def generate_personalized_advice(df, age=None, lifestyle=None, hobbies=None):\n",
    "    transactions = df.to_string(index=False)\n",
    "\n",
    "    prompt = f\"\"\"\n",
    "    Based on the following transaction data:\n",
    "\n",
    "    {transactions}\n",
    "\n",
    "    And considering the following personal information:\n",
    "    Age: {age}\n",
    "    Lifestyle: {lifestyle}\n",
    "    Hobbies: {hobbies}\n",
    "\n",
    "    Please provide personalized financial advice. Include suggestions for budgeting, saving, and potential areas for improvement.\n",
    "    \"\"\"\n",
    "\n",
    "    response = openai.ChatCompletion.create(\n",
    "        model=\"gpt-4o-mini\",\n",
    "        messages=[\n",
    "            {\"role\": \"system\", \"content\": \"You are a helpful financial advisor.\"},\n",
    "            {\"role\": \"user\", \"content\": prompt}\n",
    "        ]\n",
    "    )\n",
    "\n",
    "    return response.choices[0].message.content\n",
    "\n",
    "# Generate personalized advice\n",
    "advice = generate_personalized_advice(df, age=30, lifestyle=\"Urban\", hobbies=\"Reading, Traveling\")\n",
    "\n",
    "print(\"Personalized Financial Advice:\")\n",
    "print(advice)"
   ]
  },
  {
   "cell_type": "markdown",
   "metadata": {},
   "source": [
    "## PDF Report Generation\n",
    "\n",
    "Now, let's create a function to generate a PDF report containing the financial summary and personalized advice."
   ]
  },
  {
   "cell_type": "markdown",
   "metadata": {},
   "source": [
    "**Please note that this requires `wkhtmltopdf` to be installed on your system.**"
   ]
  },
  {
   "cell_type": "code",
   "execution_count": 13,
   "metadata": {},
   "outputs": [
    {
     "name": "stdout",
     "output_type": "stream",
     "text": [
      "PDF report generated: financial_report.pdf\n",
      "PDF report has been generated.\n"
     ]
    }
   ],
   "source": [
    "def create_pdf_report(summary, advice, output_path='financial_report.pdf'):\n",
    "    html_content = \"\"\"\n",
    "    <!DOCTYPE html>\n",
    "    <html>\n",
    "    <head>\n",
    "        <meta charset=\"UTF-8\">\n",
    "        <title>Financial Report</title>\n",
    "        <style>\n",
    "            body {{ font-family: Arial, sans-serif; line-height: 1.6; color: #333; }}\n",
    "            h1 {{ color: #2c3e50; text-align: center; }}\n",
    "            h2 {{ color: #34495e; }}\n",
    "            h3 {{ color: #2980b9; }}\n",
    "            .section {{ margin-bottom: 20px; }}\n",
    "            ul {{ padding-left: 20px; }}\n",
    "        </style>\n",
    "    </head>\n",
    "    <body>\n",
    "        <h1>Financial Report</h1>\n",
    "        \n",
    "        <div class=\"section\">\n",
    "            <h2>Financial Summary</h2>\n",
    "            {0}\n",
    "        </div>\n",
    "        \n",
    "        <div class=\"section\">\n",
    "            <h2>Personalized Financial Advice</h2>\n",
    "            {1}\n",
    "        </div>\n",
    "    </body>\n",
    "    </html>\n",
    "    \"\"\".format(\n",
    "        summary.replace('**', '').replace('###', '<h3>').replace('\\n', '<br>'),\n",
    "        advice.replace('**', '').replace('###', '<h3>').replace('\\n', '<br>')\n",
    "    )\n",
    "\n",
    "    options = {\n",
    "        'page-size': 'A4',\n",
    "        'margin-top': '0.75in',\n",
    "        'margin-right': '0.75in',\n",
    "        'margin-bottom': '0.75in',\n",
    "        'margin-left': '0.75in',\n",
    "        'encoding': \"UTF-8\",\n",
    "    }\n",
    "\n",
    "    pdfkit.from_string(html_content, output_path, options=options)\n",
    "    print(f\"PDF report generated: {output_path}\")\n",
    "\n",
    "# Generate the PDF report\n",
    "create_pdf_report(summary, advice)\n",
    "\n",
    "print(\"PDF report has been generated.\")"
   ]
  },
  {
   "cell_type": "markdown",
   "metadata": {},
   "source": [
    "## Conclusion\n",
    "\n",
    "In this notebook, we've walked through the process of loading financial data, categorizing transactions, generating a financial summary, providing personalized financial advice, and creating a PDF report. All the necessary code is contained within this notebook, making it easy to run and modify without external dependencies.\n",
    "\n",
    "You can further extend this analysis by:\n",
    "1. Visualizing spending patterns using matplotlib or seaborn\n",
    "2. Implementing more advanced financial metrics\n",
    "3. Exploring trends over time in the financial data\n",
    "4. Customizing the PDF report layout and content\n",
    "\n",
    "Feel free to experiment with the code and adapt it to your specific financial analysis needs!"
   ]
  },
  {
   "cell_type": "markdown",
   "metadata": {},
   "source": []
  }
 ],
 "metadata": {
  "kernelspec": {
   "display_name": "Python 3",
   "language": "python",
   "name": "python3"
  },
  "language_info": {
   "codemirror_mode": {
    "name": "ipython",
    "version": 3
   },
   "file_extension": ".py",
   "mimetype": "text/x-python",
   "name": "python",
   "nbconvert_exporter": "python",
   "pygments_lexer": "ipython3",
   "version": "3.9.11"
  }
 },
 "nbformat": 4,
 "nbformat_minor": 4
}
