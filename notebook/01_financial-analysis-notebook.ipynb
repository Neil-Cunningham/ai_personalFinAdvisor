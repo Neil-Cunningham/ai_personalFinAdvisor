{
 "cells": [
  {
   "cell_type": "markdown",
   "metadata": {},
   "source": [
    "# Financial Analysis and Insights Notebook\n",
    "\n",
    "This notebook contains all the necessary code to analyze financial data, categorize transactions, and generate insights using AI. No external .py files are required.\n",
    "\n",
    "## Setup\n",
    "\n",
    "First, let's import the necessary libraries and set up our environment."
   ]
  },
  {
   "cell_type": "code",
   "execution_count": null,
   "metadata": {},
   "outputs": [],
   "source": [
    "%pip install python-dotenv pandas gspread oauth2client openai==0.28.0 pdfkit gradio"
   ]
  },
  {
   "cell_type": "code",
   "execution_count": 6,
   "metadata": {},
   "outputs": [],
   "source": [
    "import os\n",
    "import pandas as pd\n",
    "import openai\n",
    "from dotenv import load_dotenv\n",
    "\n",
    "# Load environment variables\n",
    "load_dotenv()\n",
    "\n",
    "# Set up OpenAI API key\n",
    "openai.api_key = os.getenv(\"OPENAI_API_KEY\")\n",
    "\n",
    "# Check if the API key is set\n",
    "if not openai.api_key:\n",
    "    raise ValueError(\"OpenAI API key is not set. Please check your .env file.\")"
   ]
  },
  {
   "cell_type": "markdown",
   "metadata": {},
   "source": [
    "## Data Extraction\n",
    "\n",
    "Let's define functions to load our financial data from either a CSV file or Google Sheets."
   ]
  },
  {
   "cell_type": "code",
   "execution_count": 3,
   "metadata": {},
   "outputs": [
    {
     "name": "stdout",
     "output_type": "stream",
     "text": [
      "         Date                Description       Category Income/Expense  \\\n",
      "0  2024-09-01       Salary from ABC Corp         Income         Income   \n",
      "1  2024-09-02  Grocery shopping at Coles      Groceries        Expense   \n",
      "2  2024-09-03          Sydney Water Bill      Utilities        Expense   \n",
      "3  2024-09-04       Netflix Subscription  Entertainment        Expense   \n",
      "4  2024-09-05   Dinner at The Rocks Cafe     Dining Out        Expense   \n",
      "\n",
      "    Amount  \n",
      "0  6000.00  \n",
      "1   200.50  \n",
      "2    80.75  \n",
      "3    13.99  \n",
      "4    60.00  \n",
      "<class 'pandas.core.frame.DataFrame'>\n",
      "RangeIndex: 121 entries, 0 to 120\n",
      "Data columns (total 5 columns):\n",
      " #   Column          Non-Null Count  Dtype  \n",
      "---  ------          --------------  -----  \n",
      " 0   Date            121 non-null    object \n",
      " 1   Description     121 non-null    object \n",
      " 2   Category        121 non-null    object \n",
      " 3   Income/Expense  121 non-null    object \n",
      " 4   Amount          121 non-null    float64\n",
      "dtypes: float64(1), object(4)\n",
      "memory usage: 4.9+ KB\n",
      "None\n"
     ]
    }
   ],
   "source": [
    "import gspread\n",
    "from oauth2client.service_account import ServiceAccountCredentials\n",
    "\n",
    "def load_from_google_sheets():\n",
    "    scope = [\"https://spreadsheets.google.com/feeds\", \"https://www.googleapis.com/auth/drive\"]\n",
    "    creds = ServiceAccountCredentials.from_json_keyfile_name(os.getenv(\"GOOGLE_APPLICATION_CREDENTIALS\"), scope)\n",
    "    client = gspread.authorize(creds)\n",
    "\n",
    "    sheet = client.open_by_url(os.getenv(\"DUMMY_DATA_SPREADSHEET\")).sheet1\n",
    "    data = sheet.get_all_records()\n",
    "    return pd.DataFrame(data)\n",
    "\n",
    "def load_from_csv():\n",
    "    csv_path = '../data/data.csv'  # Assuming the CSV file is in the same directory as the notebook\n",
    "    if not os.path.exists(csv_path):\n",
    "        raise FileNotFoundError(f\"The file {csv_path} does not exist.\")\n",
    "    return pd.read_csv(csv_path)\n",
    "\n",
    "def load_data():\n",
    "    if os.getenv(\"USE_GOOGLE_SHEETS\", \"false\").lower() == \"true\":\n",
    "        return load_from_google_sheets()\n",
    "    else:\n",
    "        return load_from_csv()\n",
    "\n",
    "# Load the financial data\n",
    "df = load_data()\n",
    "\n",
    "# Display the first few rows of the dataframe\n",
    "print(df.head())\n",
    "\n",
    "# Display basic information about the dataframe\n",
    "print(df.info())"
   ]
  },
  {
   "cell_type": "markdown",
   "metadata": {},
   "source": [
    "## Transaction Categorization\n",
    "\n",
    "Now, let's define functions to categorize the transactions using the OpenAI API."
   ]
  },
  {
   "cell_type": "code",
   "execution_count": 7,
   "metadata": {},
   "outputs": [
    {
     "name": "stdout",
     "output_type": "stream",
     "text": [
      "         Date                Description       Category Income/Expense  \\\n",
      "0  2024-09-01       Salary from ABC Corp         Income         Income   \n",
      "1  2024-09-02  Grocery shopping at Coles      Groceries        Expense   \n",
      "2  2024-09-03          Sydney Water Bill      Utilities        Expense   \n",
      "3  2024-09-04       Netflix Subscription  Entertainment        Expense   \n",
      "4  2024-09-05   Dinner at The Rocks Cafe     Dining Out        Expense   \n",
      "\n",
      "    Amount  \n",
      "0  6000.00  \n",
      "1   200.50  \n",
      "2    80.75  \n",
      "3    13.99  \n",
      "4    60.00  \n",
      "Unique categories:\n",
      "['Income' 'Groceries' 'Utilities' 'Entertainment' 'Dining Out'\n",
      " 'Transportation' 'Fitness' 'Accommodation' 'Miscellaneous' 'Investments'\n",
      " 'Insurance' 'Charity' 'Shopping' 'Travel' 'Electronics' 'Expense']\n"
     ]
    }
   ],
   "source": [
    "def categorize_transaction(description):\n",
    "    completion = openai.ChatCompletion.create(\n",
    "        model=\"gpt-4o-mini\",\n",
    "        messages=[\n",
    "            {\"role\": \"system\", \"content\": \"You are a helpful financial assistant. Categorize transactions into one of the following categories: Groceries, Utilities, Rent, Entertainment, Transportation, Dining Out, Miscellaneous, Health & Fitness, Housing, Investments, Insurance, Charity, and Income.\"},\n",
    "            {\"role\": \"user\", \"content\": f\"Categorize the following transaction: '{description}'. Respond with the category name only.\"}\n",
    "        ]\n",
    "    )\n",
    "    return completion.choices[0].message.content.strip()\n",
    "\n",
    "def categorize_transactions(df):\n",
    "    for index, row in df[df['Category'] == ''].iterrows():\n",
    "        category = categorize_transaction(row['Description'])\n",
    "        df.at[index, 'Category'] = category\n",
    "    return df\n",
    "\n",
    "# Categorize the transactions\n",
    "df = categorize_transactions(df)\n",
    "\n",
    "# Display the first few rows of the categorized dataframe\n",
    "print(df.head())\n",
    "\n",
    "# Show the unique categories\n",
    "print(\"Unique categories:\")\n",
    "print(df['Category'].unique())"
   ]
  },
  {
   "cell_type": "markdown",
   "metadata": {},
   "source": [
    "## Financial Summary\n",
    "\n",
    "Now that we have categorized our transactions, let's generate a financial summary using the OpenAI API."
   ]
  },
  {
   "cell_type": "code",
   "execution_count": 8,
   "metadata": {},
   "outputs": [
    {
     "name": "stdout",
     "output_type": "stream",
     "text": [
      "Financial Summary:\n",
      "**Financial Summary:**\n",
      "\n",
      "- **Total Income:** $39,952.00  \n",
      "- **Total Expenses:** $22,590.21  \n",
      "- **Net Income (Income - Expenses):** $17,361.79  \n",
      "\n",
      "**Spending Breakdown by Category:**\n",
      "- Accommodation: $9,250.00  \n",
      "- Charity: $900.00  \n",
      "- Dining Out: $1,081.50  \n",
      "- Electronics: $3,500.00  \n",
      "- Entertainment: $581.96  \n",
      "- Expense: $200.00  \n",
      "- Fitness: $160.00  \n",
      "- Groceries: $2,292.00  \n",
      "- Insurance: $600.00  \n",
      "- Miscellaneous: $370.00  \n",
      "- Shopping: $1,205.00  \n",
      "- Transportation: $693.00  \n",
      "- Travel: $950.00  \n",
      "- Utilities: $806.75  \n",
      "\n",
      "**Key Insights:**\n",
      "- Significant expenditures are in Accommodation ($9,250) and Electronics ($3,500).\n",
      "- Charitable contributions are $900.\n",
      "- Total discretionary spending (Dining Out, Electronics, Entertainment, etc.): $7,811.46, which is approximately 34.6% of total income.\n",
      "\n",
      "This summary provides a clear picture of financial health, emphasizing a substantial net income and detailing discretionary spending categories.\n"
     ]
    }
   ],
   "source": [
    "def generate_financial_summary(df):\n",
    "    total_spent = df[df['Income/Expense'] == 'Expense']['Amount'].sum()\n",
    "    total_income = df[df['Income/Expense'] == 'Income']['Amount'].sum()\n",
    "    category_spending = df[df['Income/Expense'] == 'Expense'].groupby('Category')['Amount'].sum()\n",
    "\n",
    "    completion = openai.ChatCompletion.create(\n",
    "        model=\"gpt-4o-mini\",\n",
    "        messages=[\n",
    "            {\"role\": \"system\", \"content\": \"You are a helpful financial assistant. Generate a concise financial summary based on the provided data.\"},\n",
    "            {\"role\": \"user\", \"content\": f\"Generate a financial summary based on the following data:\\n\"\n",
    "                                        f\"Total Income: ${total_income:.2f}\\n\"\n",
    "                                        f\"Total Expenses: ${total_spent:.2f}\\n\"\n",
    "                                        f\"Spending by category: {category_spending.to_dict()}\"}\n",
    "        ]\n",
    "    )\n",
    "    return completion.choices[0].message.content.strip()\n",
    "\n",
    "# Generate the financial summary\n",
    "summary = generate_financial_summary(df)\n",
    "\n",
    "print(\"Financial Summary:\")\n",
    "print(summary)"
   ]
  },
  {
   "cell_type": "markdown",
   "metadata": {},
   "source": [
    "## Personalized Financial Advice\n",
    "\n",
    "Finally, let's generate some personalized financial advice based on the transaction data and some additional personal information."
   ]
  },
  {
   "cell_type": "code",
   "execution_count": 9,
   "metadata": {},
   "outputs": [
    {
     "name": "stdout",
     "output_type": "stream",
     "text": [
      "Personalized Financial Advice:\n",
      "Given your financial transaction data and personal information, here are some tailored financial insights and suggestions:\n",
      "\n",
      "### 1. **Budgeting: Analyze Your Spending Patterns**\n",
      "\n",
      "- **Categorize Spending**: Review your expenses by category—such as Groceries, Transportation, Dining Out, Entertainment, Utilities, and Rent. This will help you see where most of your money is going.\n",
      "\n",
      "- **Set Up a Monthly Budget**: Establish a budget based on your average monthly income. Use the following structure:\n",
      "  - **Income**: You have a steady monthly income of approximately $6000 from your salary and additional income from freelance work and dividends.\n",
      "  - **Fixed Expenses**: Rent, utilities, and insurance payments are typically non-negotiable. Add these up; for example, rent alone is $2000.\n",
      "  - **Variable Expenses**: Allocate reasonable amounts for groceries, dining out, and entertainment based on historical spending patterns. For example, you’ve spent around $200-250 monthly on groceries and around $200-300 on dining out.\n",
      "\n",
      "### 2. **Saving and Emergency Funds**\n",
      "\n",
      "- **Emergency Fund**: Aim to have at least 3-6 months’ worth of living expenses set aside. Given your fixed costs (around $2000 in rent plus utilities and others), consider starting with a goal of roughly $6000-$12000 for emergencies.\n",
      "\n",
      "- **Savings Goals**: Set short-term and long-term savings goals. For example:\n",
      "  - Short-term: Save for travel (since you enjoy traveling) or a new book collection.\n",
      "  - Long-term: Consider retirement savings or a home down payment.\n",
      "\n",
      "- **Automate Savings**: Create an automatic transfer to your savings account each month immediately after you receive your salary. This makes saving a seamless part of your financial routine.\n",
      "\n",
      "### 3. **Investment Strategy**\n",
      "\n",
      "- **Diversify Investments**: You are already receiving dividends from stocks. Consider diversifying your investments to reduce risk and generate potential higher returns. Look into:\n",
      "  - **Index Funds or ETFs**: These provide exposure to a broad market with lower fees.\n",
      "  - **Bond Investments**: Consider allocating a small portion of your portfolio for stability.\n",
      "\n",
      "- ** retirement Savings**: If you aren't already contributing to a retirement plan (like a superannuation in Australia), assess options to start investing in a retirement account to benefit from tax advantages.\n",
      "\n",
      "### 4. **Reduce Unnecessary Spending**\n",
      "\n",
      "- **Dining Out**: Spending on dining out is quite high, averaging around $250 monthly. Consider reducing this to 2-3 times a month and try cooking at home to save money.\n",
      "  \n",
      "- **Entertainment Subscriptions**: You have multiple subscriptions (Netflix, Spotify, etc.). Reevaluate these to see if you can consolidate or eliminate any to save costs.\n",
      "\n",
      "- **Shopping and Electronics**: The purchases for electronics and shopping can be costly. Consider defining a clear budget before shopping to curb impulse buys.\n",
      "\n",
      "### 5. **Income Generation and Skill Enhancement**\n",
      "\n",
      "- **Freelancing**: You have a good source of additional income from freelance work. Consider enhancing skills relevant to freelancing (like graphic design or web development) to potentially increase rates or involve more clients.\n",
      "\n",
      "- **Multiple Income Streams**: Explore ways to create additional income streams – either through side hustles or investments.\n",
      "\n",
      "### 6. **Tax Considerations**\n",
      "\n",
      "- **Tax Deductions**: Keep records of any expenses that could be tax-deductible, particularly related to your freelance work (like supplies or home office costs). Consult with a tax professional for optimized strategies.\n",
      "\n",
      "- **Insurance**: Review your health insurance and consider options based on your lifestyle. Depending on your needs, sometimes higher premiums can provide better long-term savings in case of medical emergencies.\n",
      "\n",
      "### 7. **Personal Financial Assessment**\n",
      "\n",
      "- **Review Regularly**: Set aside time each month to review your finances and see how you are progressing against your budget and savings goals.\n",
      "\n",
      "- **Financial Education**: Consider reading books or taking courses that can enhance your financial literacy, focusing on personal finance and investment strategies tailored for your age group.\n",
      "\n",
      "By implementing these strategies and regularly reviewing your financial health, you can work towards achieving a more balanced and secure financial future.\n"
     ]
    }
   ],
   "source": [
    "def generate_personalized_advice(df, age=None, lifestyle=None, hobbies=None):\n",
    "    transactions = df.to_string(index=False)\n",
    "\n",
    "    prompt = f\"\"\"\n",
    "    Based on the following transaction data:\n",
    "\n",
    "    {transactions}\n",
    "\n",
    "    And considering the following personal information:\n",
    "    Age: {age}\n",
    "    Lifestyle: {lifestyle}\n",
    "    Hobbies: {hobbies}\n",
    "\n",
    "    Please provide personalized financial advice. Include suggestions for budgeting, saving, and potential areas for improvement.\n",
    "    \"\"\"\n",
    "\n",
    "    response = openai.ChatCompletion.create(\n",
    "        model=\"gpt-4o-mini\",\n",
    "        messages=[\n",
    "            {\"role\": \"system\", \"content\": \"You are a helpful financial advisor.\"},\n",
    "            {\"role\": \"user\", \"content\": prompt}\n",
    "        ]\n",
    "    )\n",
    "\n",
    "    return response.choices[0].message.content\n",
    "\n",
    "# Generate personalized advice\n",
    "advice = generate_personalized_advice(df, age=30, lifestyle=\"Urban\", hobbies=\"Reading, Traveling\")\n",
    "\n",
    "print(\"Personalized Financial Advice:\")\n",
    "print(advice)"
   ]
  },
  {
   "cell_type": "markdown",
   "metadata": {},
   "source": [
    "## Conclusion\n",
    "\n",
    "In this notebook, we've walked through the process of loading financial data, categorizing transactions, generating a financial summary, and providing personalized financial advice. All the necessary code is contained within this notebook, making it easy to run and modify without external dependencies.\n",
    "\n",
    "You can further extend this analysis by:\n",
    "1. Visualizing spending patterns using matplotlib or seaborn\n",
    "2. Implementing more advanced financial metrics\n",
    "3. Exploring trends over time in the financial data\n",
    "\n",
    "Feel free to experiment with the code and adapt it to your specific financial analysis needs!"
   ]
  }
 ],
 "metadata": {
  "kernelspec": {
   "display_name": "Python 3",
   "language": "python",
   "name": "python3"
  },
  "language_info": {
   "codemirror_mode": {
    "name": "ipython",
    "version": 3
   },
   "file_extension": ".py",
   "mimetype": "text/x-python",
   "name": "python",
   "nbconvert_exporter": "python",
   "pygments_lexer": "ipython3",
   "version": "3.9.11"
  }
 },
 "nbformat": 4,
 "nbformat_minor": 4
}
