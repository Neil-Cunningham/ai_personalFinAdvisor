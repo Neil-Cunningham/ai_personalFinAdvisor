{
  "nbformat": 4,
  "nbformat_minor": 0,
  "metadata": {
    "colab": {
      "provenance": []
    },
    "kernelspec": {
      "name": "python3",
      "display_name": "Python 3"
    },
    "language_info": {
      "name": "python"
    }
  },
  "cells": [
    {
      "cell_type": "markdown",
      "source": [
        "# AI Financial Advisor\n",
        "\n",
        "This notebook demonstrates how to build an AI-powered financial assistant.\n"
      ],
      "metadata": {
        "id": "AePsP_HxHr9F"
      }
    },
    {
      "cell_type": "markdown",
      "source": [
        "# Step 1: Install required libraries\n",
        "\n",
        "We'll be using the following Python libraries:\n",
        "\n",
        "- **gspread** and **oauth2client** for interacting with Google Sheets.\n",
        "\n",
        "- **pandas** for data manipulation.\n",
        "- **openai** for LLM interactions.\n",
        "- **streamlit** for the interactive UI\n",
        "\n"
      ],
      "metadata": {
        "id": "I-YyqAn0H8WP"
      }
    },
    {
      "cell_type": "code",
      "execution_count": null,
      "metadata": {
        "colab": {
          "base_uri": "https://localhost:8080/"
        },
        "id": "fQ0G5mC6HR6A",
        "outputId": "7ad17cae-19c4-43e7-eeb9-471db1786b25"
      },
      "outputs": [
        {
          "output_type": "stream",
          "name": "stdout",
          "text": [
            "Requirement already satisfied: gspread in /usr/local/lib/python3.10/dist-packages (6.0.2)\n",
            "Requirement already satisfied: oauth2client in /usr/local/lib/python3.10/dist-packages (4.1.3)\n",
            "Requirement already satisfied: pandas in /usr/local/lib/python3.10/dist-packages (2.1.4)\n",
            "Requirement already satisfied: openai in /usr/local/lib/python3.10/dist-packages (1.48.0)\n",
            "Requirement already satisfied: streamlit in /usr/local/lib/python3.10/dist-packages (1.38.0)\n",
            "Requirement already satisfied: google-auth>=1.12.0 in /usr/local/lib/python3.10/dist-packages (from gspread) (2.27.0)\n",
            "Requirement already satisfied: google-auth-oauthlib>=0.4.1 in /usr/local/lib/python3.10/dist-packages (from gspread) (1.2.1)\n",
            "Requirement already satisfied: StrEnum==0.4.15 in /usr/local/lib/python3.10/dist-packages (from gspread) (0.4.15)\n",
            "Requirement already satisfied: httplib2>=0.9.1 in /usr/local/lib/python3.10/dist-packages (from oauth2client) (0.22.0)\n",
            "Requirement already satisfied: pyasn1>=0.1.7 in /usr/local/lib/python3.10/dist-packages (from oauth2client) (0.6.1)\n",
            "Requirement already satisfied: pyasn1-modules>=0.0.5 in /usr/local/lib/python3.10/dist-packages (from oauth2client) (0.4.1)\n",
            "Requirement already satisfied: rsa>=3.1.4 in /usr/local/lib/python3.10/dist-packages (from oauth2client) (4.9)\n",
            "Requirement already satisfied: six>=1.6.1 in /usr/local/lib/python3.10/dist-packages (from oauth2client) (1.16.0)\n",
            "Requirement already satisfied: numpy<2,>=1.22.4 in /usr/local/lib/python3.10/dist-packages (from pandas) (1.26.4)\n",
            "Requirement already satisfied: python-dateutil>=2.8.2 in /usr/local/lib/python3.10/dist-packages (from pandas) (2.8.2)\n",
            "Requirement already satisfied: pytz>=2020.1 in /usr/local/lib/python3.10/dist-packages (from pandas) (2024.2)\n",
            "Requirement already satisfied: tzdata>=2022.1 in /usr/local/lib/python3.10/dist-packages (from pandas) (2024.1)\n",
            "Requirement already satisfied: anyio<5,>=3.5.0 in /usr/local/lib/python3.10/dist-packages (from openai) (3.7.1)\n",
            "Requirement already satisfied: distro<2,>=1.7.0 in /usr/lib/python3/dist-packages (from openai) (1.7.0)\n",
            "Requirement already satisfied: httpx<1,>=0.23.0 in /usr/local/lib/python3.10/dist-packages (from openai) (0.27.2)\n",
            "Requirement already satisfied: jiter<1,>=0.4.0 in /usr/local/lib/python3.10/dist-packages (from openai) (0.5.0)\n",
            "Requirement already satisfied: pydantic<3,>=1.9.0 in /usr/local/lib/python3.10/dist-packages (from openai) (2.9.2)\n",
            "Requirement already satisfied: sniffio in /usr/local/lib/python3.10/dist-packages (from openai) (1.3.1)\n",
            "Requirement already satisfied: tqdm>4 in /usr/local/lib/python3.10/dist-packages (from openai) (4.66.5)\n",
            "Requirement already satisfied: typing-extensions<5,>=4.11 in /usr/local/lib/python3.10/dist-packages (from openai) (4.12.2)\n",
            "Requirement already satisfied: altair<6,>=4.0 in /usr/local/lib/python3.10/dist-packages (from streamlit) (4.2.2)\n",
            "Requirement already satisfied: blinker<2,>=1.0.0 in /usr/lib/python3/dist-packages (from streamlit) (1.4)\n",
            "Requirement already satisfied: cachetools<6,>=4.0 in /usr/local/lib/python3.10/dist-packages (from streamlit) (5.5.0)\n",
            "Requirement already satisfied: click<9,>=7.0 in /usr/local/lib/python3.10/dist-packages (from streamlit) (8.1.7)\n",
            "Requirement already satisfied: packaging<25,>=20 in /usr/local/lib/python3.10/dist-packages (from streamlit) (24.1)\n",
            "Requirement already satisfied: pillow<11,>=7.1.0 in /usr/local/lib/python3.10/dist-packages (from streamlit) (10.4.0)\n",
            "Requirement already satisfied: protobuf<6,>=3.20 in /usr/local/lib/python3.10/dist-packages (from streamlit) (3.20.3)\n",
            "Requirement already satisfied: pyarrow>=7.0 in /usr/local/lib/python3.10/dist-packages (from streamlit) (14.0.2)\n",
            "Requirement already satisfied: requests<3,>=2.27 in /usr/local/lib/python3.10/dist-packages (from streamlit) (2.32.3)\n",
            "Requirement already satisfied: rich<14,>=10.14.0 in /usr/local/lib/python3.10/dist-packages (from streamlit) (13.8.1)\n",
            "Requirement already satisfied: tenacity<9,>=8.1.0 in /usr/local/lib/python3.10/dist-packages (from streamlit) (8.5.0)\n",
            "Requirement already satisfied: toml<2,>=0.10.1 in /usr/local/lib/python3.10/dist-packages (from streamlit) (0.10.2)\n",
            "Requirement already satisfied: gitpython!=3.1.19,<4,>=3.0.7 in /usr/local/lib/python3.10/dist-packages (from streamlit) (3.1.43)\n",
            "Requirement already satisfied: pydeck<1,>=0.8.0b4 in /usr/local/lib/python3.10/dist-packages (from streamlit) (0.9.1)\n",
            "Requirement already satisfied: tornado<7,>=6.0.3 in /usr/local/lib/python3.10/dist-packages (from streamlit) (6.3.3)\n",
            "Requirement already satisfied: watchdog<5,>=2.1.5 in /usr/local/lib/python3.10/dist-packages (from streamlit) (4.0.2)\n",
            "Requirement already satisfied: entrypoints in /usr/local/lib/python3.10/dist-packages (from altair<6,>=4.0->streamlit) (0.4)\n",
            "Requirement already satisfied: jinja2 in /usr/local/lib/python3.10/dist-packages (from altair<6,>=4.0->streamlit) (3.1.4)\n",
            "Requirement already satisfied: jsonschema>=3.0 in /usr/local/lib/python3.10/dist-packages (from altair<6,>=4.0->streamlit) (4.23.0)\n",
            "Requirement already satisfied: toolz in /usr/local/lib/python3.10/dist-packages (from altair<6,>=4.0->streamlit) (0.12.1)\n",
            "Requirement already satisfied: idna>=2.8 in /usr/local/lib/python3.10/dist-packages (from anyio<5,>=3.5.0->openai) (3.10)\n",
            "Requirement already satisfied: exceptiongroup in /usr/local/lib/python3.10/dist-packages (from anyio<5,>=3.5.0->openai) (1.2.2)\n",
            "Requirement already satisfied: gitdb<5,>=4.0.1 in /usr/local/lib/python3.10/dist-packages (from gitpython!=3.1.19,<4,>=3.0.7->streamlit) (4.0.11)\n",
            "Requirement already satisfied: requests-oauthlib>=0.7.0 in /usr/local/lib/python3.10/dist-packages (from google-auth-oauthlib>=0.4.1->gspread) (1.3.1)\n",
            "Requirement already satisfied: pyparsing!=3.0.0,!=3.0.1,!=3.0.2,!=3.0.3,<4,>=2.4.2 in /usr/local/lib/python3.10/dist-packages (from httplib2>=0.9.1->oauth2client) (3.1.4)\n",
            "Requirement already satisfied: certifi in /usr/local/lib/python3.10/dist-packages (from httpx<1,>=0.23.0->openai) (2024.8.30)\n",
            "Requirement already satisfied: httpcore==1.* in /usr/local/lib/python3.10/dist-packages (from httpx<1,>=0.23.0->openai) (1.0.5)\n",
            "Requirement already satisfied: h11<0.15,>=0.13 in /usr/local/lib/python3.10/dist-packages (from httpcore==1.*->httpx<1,>=0.23.0->openai) (0.14.0)\n",
            "Requirement already satisfied: annotated-types>=0.6.0 in /usr/local/lib/python3.10/dist-packages (from pydantic<3,>=1.9.0->openai) (0.7.0)\n",
            "Requirement already satisfied: pydantic-core==2.23.4 in /usr/local/lib/python3.10/dist-packages (from pydantic<3,>=1.9.0->openai) (2.23.4)\n",
            "Requirement already satisfied: charset-normalizer<4,>=2 in /usr/local/lib/python3.10/dist-packages (from requests<3,>=2.27->streamlit) (3.3.2)\n",
            "Requirement already satisfied: urllib3<3,>=1.21.1 in /usr/local/lib/python3.10/dist-packages (from requests<3,>=2.27->streamlit) (2.2.3)\n",
            "Requirement already satisfied: markdown-it-py>=2.2.0 in /usr/local/lib/python3.10/dist-packages (from rich<14,>=10.14.0->streamlit) (3.0.0)\n",
            "Requirement already satisfied: pygments<3.0.0,>=2.13.0 in /usr/local/lib/python3.10/dist-packages (from rich<14,>=10.14.0->streamlit) (2.18.0)\n",
            "Requirement already satisfied: smmap<6,>=3.0.1 in /usr/local/lib/python3.10/dist-packages (from gitdb<5,>=4.0.1->gitpython!=3.1.19,<4,>=3.0.7->streamlit) (5.0.1)\n",
            "Requirement already satisfied: MarkupSafe>=2.0 in /usr/local/lib/python3.10/dist-packages (from jinja2->altair<6,>=4.0->streamlit) (2.1.5)\n",
            "Requirement already satisfied: attrs>=22.2.0 in /usr/local/lib/python3.10/dist-packages (from jsonschema>=3.0->altair<6,>=4.0->streamlit) (24.2.0)\n",
            "Requirement already satisfied: jsonschema-specifications>=2023.03.6 in /usr/local/lib/python3.10/dist-packages (from jsonschema>=3.0->altair<6,>=4.0->streamlit) (2023.12.1)\n",
            "Requirement already satisfied: referencing>=0.28.4 in /usr/local/lib/python3.10/dist-packages (from jsonschema>=3.0->altair<6,>=4.0->streamlit) (0.35.1)\n",
            "Requirement already satisfied: rpds-py>=0.7.1 in /usr/local/lib/python3.10/dist-packages (from jsonschema>=3.0->altair<6,>=4.0->streamlit) (0.20.0)\n",
            "Requirement already satisfied: mdurl~=0.1 in /usr/local/lib/python3.10/dist-packages (from markdown-it-py>=2.2.0->rich<14,>=10.14.0->streamlit) (0.1.2)\n",
            "Requirement already satisfied: oauthlib>=3.0.0 in /usr/local/lib/python3.10/dist-packages (from requests-oauthlib>=0.7.0->google-auth-oauthlib>=0.4.1->gspread) (3.2.2)\n"
          ]
        }
      ],
      "source": [
        "!pip install gspread oauth2client pandas openai streamlit"
      ]
    },
    {
      "cell_type": "markdown",
      "source": [
        "# Step 2: Google Sheets Setup\n",
        "\n",
        "## 2.1 Create a Google Sheet Template\n",
        "\n",
        "Create a new Google Sheet with the following columns:\n",
        "- Date\n",
        "- Description\n",
        "- Category (initially empty)\n",
        "- Income/Expense\n",
        "- Amount\n",
        "\n",
        "## 2.2 Set Up Google Cloud Project and Enable Google Sheets API\n",
        "\n",
        "1. Go to the Google Cloud Console.\n",
        "2. Create a new project.\n",
        "3. Navigate to APIs & Services > Library.\n",
        "4. Search for Google Sheets API and enable it.\n",
        "\n",
        "\n",
        "## 2.3 Create Service Account Credentials\n",
        "\n",
        "1. In the Google Cloud Console, go to APIs & Services > Credentials.\n",
        "2. Click Create Credentials > Service Account.\n",
        "3. Follow the prompts and create a JSON key file.\n",
        "4. Download the JSON credentials file to your project directory.\n",
        "\n",
        "## 2.4 Share the Google Sheet with the Service Account\n",
        "- In your Google Sheet, click Share.\n",
        "- Share the sheet with the service account email (found in your JSON key under client_email)."
      ],
      "metadata": {
        "id": "jMv9Kv-TANHM"
      }
    },
    {
      "cell_type": "markdown",
      "source": [
        "# Step 3: Data Extraction\n",
        "\n",
        "## 3.1 Authenticate and Connect to Google Sheets"
      ],
      "metadata": {
        "id": "TO1VRIQ3eo1k"
      }
    },
    {
      "cell_type": "code",
      "source": [
        "import gspread\n",
        "from oauth2client.service_account import ServiceAccountCredentials\n",
        "\n",
        "# Define the scope\n",
        "scope = [\"https://spreadsheets.google.com/feeds\", \"https://www.googleapis.com/auth/drive\"]\n",
        "\n",
        "# Add credentials to the account\n",
        "creds = ServiceAccountCredentials.from_json_keyfile_name('/path/to/credentials.json', scope)\n",
        "\n",
        "# Authorize the clientsheet\n",
        "client = gspread.authorize(creds)"
      ],
      "metadata": {
        "id": "d4wHR45lInt4"
      },
      "execution_count": null,
      "outputs": []
    },
    {
      "cell_type": "markdown",
      "source": [
        "## 3.2 Load Data into Pandas DataFrame"
      ],
      "metadata": {
        "id": "v0hnKZVYeu58"
      }
    },
    {
      "cell_type": "code",
      "source": [
        "import pandas as pd\n",
        "\n",
        "# Open the Google Sheet\n",
        "sheet = client.open('Personal Transactions Data').sheet1\n",
        "\n",
        "# Get all records\n",
        "data = sheet.get_all_records()\n",
        "\n",
        "# Convert to DataFrame\n",
        "df = pd.DataFrame(data)\n",
        "\n",
        "df"
      ],
      "metadata": {
        "colab": {
          "base_uri": "https://localhost:8080/",
          "height": 582
        },
        "id": "5CM0ugeAZdeG",
        "outputId": "ad689d4a-c9e7-433a-8d45-043bf99cbdaf"
      },
      "execution_count": null,
      "outputs": [
        {
          "output_type": "execute_result",
          "data": {
            "text/plain": [
              "          Date                  Description        Category Income/Expense  \\\n",
              "0   2024-09-01                       Salary          Income         Income   \n",
              "1   2024-09-02    Grocery shopping at Coles       Groceries        Expense   \n",
              "2   2024-09-03             Electricity bill       Utilities        Expense   \n",
              "3   2024-09-04         Netflix Subscription   Entertainment        Expense   \n",
              "4   2024-09-05       Dinner at Olive Garden      Dining Out        Expense   \n",
              "5   2024-09-07            Freelance Project          Income         Income   \n",
              "6   2024-09-10                    Uber Ride  Transportation        Expense   \n",
              "7   2024-09-12               Gym Membership                        Expense   \n",
              "8   2024-09-15                 Rent Payment                        Expense   \n",
              "9   2024-09-18              Office Supplies   Miscellaneous      Expense\\t   \n",
              "10  2024-09-20                    Dividends     Investments         Income   \n",
              "11  2024-09-21          Coffee at Starbucks      Dining Out        Expense   \n",
              "12  2024-09-22     Health Insurance Premium       Insurance        Expense   \n",
              "13  2024-09-25                Movie Tickets   Entertainment        Expense   \n",
              "14  2024-09-27  Grocery shopping at Woolies       Groceries        Expense   \n",
              "15  2024-09-29   Interest Earned on Savings          Income         Income   \n",
              "16  2024-09-30          Donation to Charity                        Expense   \n",
              "\n",
              "     Amount  \n",
              "0   5000.00  \n",
              "1    150.50  \n",
              "2     75.80  \n",
              "3     12.99  \n",
              "4     45.20  \n",
              "5   1200.00  \n",
              "6     23.45  \n",
              "7     35.00  \n",
              "8   1200.00  \n",
              "9     50.00  \n",
              "10   200.00  \n",
              "11     4.50  \n",
              "12   120.00  \n",
              "13    25.00  \n",
              "14   220.30  \n",
              "15    15.00  \n",
              "16   100.00  "
            ],
            "text/html": [
              "\n",
              "  <div id=\"df-346d8332-5f5b-401b-b993-fde1778a3fcf\" class=\"colab-df-container\">\n",
              "    <div>\n",
              "<style scoped>\n",
              "    .dataframe tbody tr th:only-of-type {\n",
              "        vertical-align: middle;\n",
              "    }\n",
              "\n",
              "    .dataframe tbody tr th {\n",
              "        vertical-align: top;\n",
              "    }\n",
              "\n",
              "    .dataframe thead th {\n",
              "        text-align: right;\n",
              "    }\n",
              "</style>\n",
              "<table border=\"1\" class=\"dataframe\">\n",
              "  <thead>\n",
              "    <tr style=\"text-align: right;\">\n",
              "      <th></th>\n",
              "      <th>Date</th>\n",
              "      <th>Description</th>\n",
              "      <th>Category</th>\n",
              "      <th>Income/Expense</th>\n",
              "      <th>Amount</th>\n",
              "    </tr>\n",
              "  </thead>\n",
              "  <tbody>\n",
              "    <tr>\n",
              "      <th>0</th>\n",
              "      <td>2024-09-01</td>\n",
              "      <td>Salary</td>\n",
              "      <td>Income</td>\n",
              "      <td>Income</td>\n",
              "      <td>5000.00</td>\n",
              "    </tr>\n",
              "    <tr>\n",
              "      <th>1</th>\n",
              "      <td>2024-09-02</td>\n",
              "      <td>Grocery shopping at Coles</td>\n",
              "      <td>Groceries</td>\n",
              "      <td>Expense</td>\n",
              "      <td>150.50</td>\n",
              "    </tr>\n",
              "    <tr>\n",
              "      <th>2</th>\n",
              "      <td>2024-09-03</td>\n",
              "      <td>Electricity bill</td>\n",
              "      <td>Utilities</td>\n",
              "      <td>Expense</td>\n",
              "      <td>75.80</td>\n",
              "    </tr>\n",
              "    <tr>\n",
              "      <th>3</th>\n",
              "      <td>2024-09-04</td>\n",
              "      <td>Netflix Subscription</td>\n",
              "      <td>Entertainment</td>\n",
              "      <td>Expense</td>\n",
              "      <td>12.99</td>\n",
              "    </tr>\n",
              "    <tr>\n",
              "      <th>4</th>\n",
              "      <td>2024-09-05</td>\n",
              "      <td>Dinner at Olive Garden</td>\n",
              "      <td>Dining Out</td>\n",
              "      <td>Expense</td>\n",
              "      <td>45.20</td>\n",
              "    </tr>\n",
              "    <tr>\n",
              "      <th>5</th>\n",
              "      <td>2024-09-07</td>\n",
              "      <td>Freelance Project</td>\n",
              "      <td>Income</td>\n",
              "      <td>Income</td>\n",
              "      <td>1200.00</td>\n",
              "    </tr>\n",
              "    <tr>\n",
              "      <th>6</th>\n",
              "      <td>2024-09-10</td>\n",
              "      <td>Uber Ride</td>\n",
              "      <td>Transportation</td>\n",
              "      <td>Expense</td>\n",
              "      <td>23.45</td>\n",
              "    </tr>\n",
              "    <tr>\n",
              "      <th>7</th>\n",
              "      <td>2024-09-12</td>\n",
              "      <td>Gym Membership</td>\n",
              "      <td></td>\n",
              "      <td>Expense</td>\n",
              "      <td>35.00</td>\n",
              "    </tr>\n",
              "    <tr>\n",
              "      <th>8</th>\n",
              "      <td>2024-09-15</td>\n",
              "      <td>Rent Payment</td>\n",
              "      <td></td>\n",
              "      <td>Expense</td>\n",
              "      <td>1200.00</td>\n",
              "    </tr>\n",
              "    <tr>\n",
              "      <th>9</th>\n",
              "      <td>2024-09-18</td>\n",
              "      <td>Office Supplies</td>\n",
              "      <td>Miscellaneous</td>\n",
              "      <td>Expense\\t</td>\n",
              "      <td>50.00</td>\n",
              "    </tr>\n",
              "    <tr>\n",
              "      <th>10</th>\n",
              "      <td>2024-09-20</td>\n",
              "      <td>Dividends</td>\n",
              "      <td>Investments</td>\n",
              "      <td>Income</td>\n",
              "      <td>200.00</td>\n",
              "    </tr>\n",
              "    <tr>\n",
              "      <th>11</th>\n",
              "      <td>2024-09-21</td>\n",
              "      <td>Coffee at Starbucks</td>\n",
              "      <td>Dining Out</td>\n",
              "      <td>Expense</td>\n",
              "      <td>4.50</td>\n",
              "    </tr>\n",
              "    <tr>\n",
              "      <th>12</th>\n",
              "      <td>2024-09-22</td>\n",
              "      <td>Health Insurance Premium</td>\n",
              "      <td>Insurance</td>\n",
              "      <td>Expense</td>\n",
              "      <td>120.00</td>\n",
              "    </tr>\n",
              "    <tr>\n",
              "      <th>13</th>\n",
              "      <td>2024-09-25</td>\n",
              "      <td>Movie Tickets</td>\n",
              "      <td>Entertainment</td>\n",
              "      <td>Expense</td>\n",
              "      <td>25.00</td>\n",
              "    </tr>\n",
              "    <tr>\n",
              "      <th>14</th>\n",
              "      <td>2024-09-27</td>\n",
              "      <td>Grocery shopping at Woolies</td>\n",
              "      <td>Groceries</td>\n",
              "      <td>Expense</td>\n",
              "      <td>220.30</td>\n",
              "    </tr>\n",
              "    <tr>\n",
              "      <th>15</th>\n",
              "      <td>2024-09-29</td>\n",
              "      <td>Interest Earned on Savings</td>\n",
              "      <td>Income</td>\n",
              "      <td>Income</td>\n",
              "      <td>15.00</td>\n",
              "    </tr>\n",
              "    <tr>\n",
              "      <th>16</th>\n",
              "      <td>2024-09-30</td>\n",
              "      <td>Donation to Charity</td>\n",
              "      <td></td>\n",
              "      <td>Expense</td>\n",
              "      <td>100.00</td>\n",
              "    </tr>\n",
              "  </tbody>\n",
              "</table>\n",
              "</div>\n",
              "    <div class=\"colab-df-buttons\">\n",
              "\n",
              "  <div class=\"colab-df-container\">\n",
              "    <button class=\"colab-df-convert\" onclick=\"convertToInteractive('df-346d8332-5f5b-401b-b993-fde1778a3fcf')\"\n",
              "            title=\"Convert this dataframe to an interactive table.\"\n",
              "            style=\"display:none;\">\n",
              "\n",
              "  <svg xmlns=\"http://www.w3.org/2000/svg\" height=\"24px\" viewBox=\"0 -960 960 960\">\n",
              "    <path d=\"M120-120v-720h720v720H120Zm60-500h600v-160H180v160Zm220 220h160v-160H400v160Zm0 220h160v-160H400v160ZM180-400h160v-160H180v160Zm440 0h160v-160H620v160ZM180-180h160v-160H180v160Zm440 0h160v-160H620v160Z\"/>\n",
              "  </svg>\n",
              "    </button>\n",
              "\n",
              "  <style>\n",
              "    .colab-df-container {\n",
              "      display:flex;\n",
              "      gap: 12px;\n",
              "    }\n",
              "\n",
              "    .colab-df-convert {\n",
              "      background-color: #E8F0FE;\n",
              "      border: none;\n",
              "      border-radius: 50%;\n",
              "      cursor: pointer;\n",
              "      display: none;\n",
              "      fill: #1967D2;\n",
              "      height: 32px;\n",
              "      padding: 0 0 0 0;\n",
              "      width: 32px;\n",
              "    }\n",
              "\n",
              "    .colab-df-convert:hover {\n",
              "      background-color: #E2EBFA;\n",
              "      box-shadow: 0px 1px 2px rgba(60, 64, 67, 0.3), 0px 1px 3px 1px rgba(60, 64, 67, 0.15);\n",
              "      fill: #174EA6;\n",
              "    }\n",
              "\n",
              "    .colab-df-buttons div {\n",
              "      margin-bottom: 4px;\n",
              "    }\n",
              "\n",
              "    [theme=dark] .colab-df-convert {\n",
              "      background-color: #3B4455;\n",
              "      fill: #D2E3FC;\n",
              "    }\n",
              "\n",
              "    [theme=dark] .colab-df-convert:hover {\n",
              "      background-color: #434B5C;\n",
              "      box-shadow: 0px 1px 3px 1px rgba(0, 0, 0, 0.15);\n",
              "      filter: drop-shadow(0px 1px 2px rgba(0, 0, 0, 0.3));\n",
              "      fill: #FFFFFF;\n",
              "    }\n",
              "  </style>\n",
              "\n",
              "    <script>\n",
              "      const buttonEl =\n",
              "        document.querySelector('#df-346d8332-5f5b-401b-b993-fde1778a3fcf button.colab-df-convert');\n",
              "      buttonEl.style.display =\n",
              "        google.colab.kernel.accessAllowed ? 'block' : 'none';\n",
              "\n",
              "      async function convertToInteractive(key) {\n",
              "        const element = document.querySelector('#df-346d8332-5f5b-401b-b993-fde1778a3fcf');\n",
              "        const dataTable =\n",
              "          await google.colab.kernel.invokeFunction('convertToInteractive',\n",
              "                                                    [key], {});\n",
              "        if (!dataTable) return;\n",
              "\n",
              "        const docLinkHtml = 'Like what you see? Visit the ' +\n",
              "          '<a target=\"_blank\" href=https://colab.research.google.com/notebooks/data_table.ipynb>data table notebook</a>'\n",
              "          + ' to learn more about interactive tables.';\n",
              "        element.innerHTML = '';\n",
              "        dataTable['output_type'] = 'display_data';\n",
              "        await google.colab.output.renderOutput(dataTable, element);\n",
              "        const docLink = document.createElement('div');\n",
              "        docLink.innerHTML = docLinkHtml;\n",
              "        element.appendChild(docLink);\n",
              "      }\n",
              "    </script>\n",
              "  </div>\n",
              "\n",
              "\n",
              "<div id=\"df-d548fd6c-b70b-43e1-9d99-0aa6cbaea25b\">\n",
              "  <button class=\"colab-df-quickchart\" onclick=\"quickchart('df-d548fd6c-b70b-43e1-9d99-0aa6cbaea25b')\"\n",
              "            title=\"Suggest charts\"\n",
              "            style=\"display:none;\">\n",
              "\n",
              "<svg xmlns=\"http://www.w3.org/2000/svg\" height=\"24px\"viewBox=\"0 0 24 24\"\n",
              "     width=\"24px\">\n",
              "    <g>\n",
              "        <path d=\"M19 3H5c-1.1 0-2 .9-2 2v14c0 1.1.9 2 2 2h14c1.1 0 2-.9 2-2V5c0-1.1-.9-2-2-2zM9 17H7v-7h2v7zm4 0h-2V7h2v10zm4 0h-2v-4h2v4z\"/>\n",
              "    </g>\n",
              "</svg>\n",
              "  </button>\n",
              "\n",
              "<style>\n",
              "  .colab-df-quickchart {\n",
              "      --bg-color: #E8F0FE;\n",
              "      --fill-color: #1967D2;\n",
              "      --hover-bg-color: #E2EBFA;\n",
              "      --hover-fill-color: #174EA6;\n",
              "      --disabled-fill-color: #AAA;\n",
              "      --disabled-bg-color: #DDD;\n",
              "  }\n",
              "\n",
              "  [theme=dark] .colab-df-quickchart {\n",
              "      --bg-color: #3B4455;\n",
              "      --fill-color: #D2E3FC;\n",
              "      --hover-bg-color: #434B5C;\n",
              "      --hover-fill-color: #FFFFFF;\n",
              "      --disabled-bg-color: #3B4455;\n",
              "      --disabled-fill-color: #666;\n",
              "  }\n",
              "\n",
              "  .colab-df-quickchart {\n",
              "    background-color: var(--bg-color);\n",
              "    border: none;\n",
              "    border-radius: 50%;\n",
              "    cursor: pointer;\n",
              "    display: none;\n",
              "    fill: var(--fill-color);\n",
              "    height: 32px;\n",
              "    padding: 0;\n",
              "    width: 32px;\n",
              "  }\n",
              "\n",
              "  .colab-df-quickchart:hover {\n",
              "    background-color: var(--hover-bg-color);\n",
              "    box-shadow: 0 1px 2px rgba(60, 64, 67, 0.3), 0 1px 3px 1px rgba(60, 64, 67, 0.15);\n",
              "    fill: var(--button-hover-fill-color);\n",
              "  }\n",
              "\n",
              "  .colab-df-quickchart-complete:disabled,\n",
              "  .colab-df-quickchart-complete:disabled:hover {\n",
              "    background-color: var(--disabled-bg-color);\n",
              "    fill: var(--disabled-fill-color);\n",
              "    box-shadow: none;\n",
              "  }\n",
              "\n",
              "  .colab-df-spinner {\n",
              "    border: 2px solid var(--fill-color);\n",
              "    border-color: transparent;\n",
              "    border-bottom-color: var(--fill-color);\n",
              "    animation:\n",
              "      spin 1s steps(1) infinite;\n",
              "  }\n",
              "\n",
              "  @keyframes spin {\n",
              "    0% {\n",
              "      border-color: transparent;\n",
              "      border-bottom-color: var(--fill-color);\n",
              "      border-left-color: var(--fill-color);\n",
              "    }\n",
              "    20% {\n",
              "      border-color: transparent;\n",
              "      border-left-color: var(--fill-color);\n",
              "      border-top-color: var(--fill-color);\n",
              "    }\n",
              "    30% {\n",
              "      border-color: transparent;\n",
              "      border-left-color: var(--fill-color);\n",
              "      border-top-color: var(--fill-color);\n",
              "      border-right-color: var(--fill-color);\n",
              "    }\n",
              "    40% {\n",
              "      border-color: transparent;\n",
              "      border-right-color: var(--fill-color);\n",
              "      border-top-color: var(--fill-color);\n",
              "    }\n",
              "    60% {\n",
              "      border-color: transparent;\n",
              "      border-right-color: var(--fill-color);\n",
              "    }\n",
              "    80% {\n",
              "      border-color: transparent;\n",
              "      border-right-color: var(--fill-color);\n",
              "      border-bottom-color: var(--fill-color);\n",
              "    }\n",
              "    90% {\n",
              "      border-color: transparent;\n",
              "      border-bottom-color: var(--fill-color);\n",
              "    }\n",
              "  }\n",
              "</style>\n",
              "\n",
              "  <script>\n",
              "    async function quickchart(key) {\n",
              "      const quickchartButtonEl =\n",
              "        document.querySelector('#' + key + ' button');\n",
              "      quickchartButtonEl.disabled = true;  // To prevent multiple clicks.\n",
              "      quickchartButtonEl.classList.add('colab-df-spinner');\n",
              "      try {\n",
              "        const charts = await google.colab.kernel.invokeFunction(\n",
              "            'suggestCharts', [key], {});\n",
              "      } catch (error) {\n",
              "        console.error('Error during call to suggestCharts:', error);\n",
              "      }\n",
              "      quickchartButtonEl.classList.remove('colab-df-spinner');\n",
              "      quickchartButtonEl.classList.add('colab-df-quickchart-complete');\n",
              "    }\n",
              "    (() => {\n",
              "      let quickchartButtonEl =\n",
              "        document.querySelector('#df-d548fd6c-b70b-43e1-9d99-0aa6cbaea25b button');\n",
              "      quickchartButtonEl.style.display =\n",
              "        google.colab.kernel.accessAllowed ? 'block' : 'none';\n",
              "    })();\n",
              "  </script>\n",
              "</div>\n",
              "\n",
              "  <div id=\"id_4cf52ae6-7197-4a47-902f-6b4b9304c47c\">\n",
              "    <style>\n",
              "      .colab-df-generate {\n",
              "        background-color: #E8F0FE;\n",
              "        border: none;\n",
              "        border-radius: 50%;\n",
              "        cursor: pointer;\n",
              "        display: none;\n",
              "        fill: #1967D2;\n",
              "        height: 32px;\n",
              "        padding: 0 0 0 0;\n",
              "        width: 32px;\n",
              "      }\n",
              "\n",
              "      .colab-df-generate:hover {\n",
              "        background-color: #E2EBFA;\n",
              "        box-shadow: 0px 1px 2px rgba(60, 64, 67, 0.3), 0px 1px 3px 1px rgba(60, 64, 67, 0.15);\n",
              "        fill: #174EA6;\n",
              "      }\n",
              "\n",
              "      [theme=dark] .colab-df-generate {\n",
              "        background-color: #3B4455;\n",
              "        fill: #D2E3FC;\n",
              "      }\n",
              "\n",
              "      [theme=dark] .colab-df-generate:hover {\n",
              "        background-color: #434B5C;\n",
              "        box-shadow: 0px 1px 3px 1px rgba(0, 0, 0, 0.15);\n",
              "        filter: drop-shadow(0px 1px 2px rgba(0, 0, 0, 0.3));\n",
              "        fill: #FFFFFF;\n",
              "      }\n",
              "    </style>\n",
              "    <button class=\"colab-df-generate\" onclick=\"generateWithVariable('df')\"\n",
              "            title=\"Generate code using this dataframe.\"\n",
              "            style=\"display:none;\">\n",
              "\n",
              "  <svg xmlns=\"http://www.w3.org/2000/svg\" height=\"24px\"viewBox=\"0 0 24 24\"\n",
              "       width=\"24px\">\n",
              "    <path d=\"M7,19H8.4L18.45,9,17,7.55,7,17.6ZM5,21V16.75L18.45,3.32a2,2,0,0,1,2.83,0l1.4,1.43a1.91,1.91,0,0,1,.58,1.4,1.91,1.91,0,0,1-.58,1.4L9.25,21ZM18.45,9,17,7.55Zm-12,3A5.31,5.31,0,0,0,4.9,8.1,5.31,5.31,0,0,0,1,6.5,5.31,5.31,0,0,0,4.9,4.9,5.31,5.31,0,0,0,6.5,1,5.31,5.31,0,0,0,8.1,4.9,5.31,5.31,0,0,0,12,6.5,5.46,5.46,0,0,0,6.5,12Z\"/>\n",
              "  </svg>\n",
              "    </button>\n",
              "    <script>\n",
              "      (() => {\n",
              "      const buttonEl =\n",
              "        document.querySelector('#id_4cf52ae6-7197-4a47-902f-6b4b9304c47c button.colab-df-generate');\n",
              "      buttonEl.style.display =\n",
              "        google.colab.kernel.accessAllowed ? 'block' : 'none';\n",
              "\n",
              "      buttonEl.onclick = () => {\n",
              "        google.colab.notebook.generateWithVariable('df');\n",
              "      }\n",
              "      })();\n",
              "    </script>\n",
              "  </div>\n",
              "\n",
              "    </div>\n",
              "  </div>\n"
            ],
            "application/vnd.google.colaboratory.intrinsic+json": {
              "type": "dataframe",
              "variable_name": "df",
              "summary": "{\n  \"name\": \"df\",\n  \"rows\": 17,\n  \"fields\": [\n    {\n      \"column\": \"Date\",\n      \"properties\": {\n        \"dtype\": \"object\",\n        \"num_unique_values\": 17,\n        \"samples\": [\n          \"2024-09-01\",\n          \"2024-09-02\",\n          \"2024-09-07\"\n        ],\n        \"semantic_type\": \"\",\n        \"description\": \"\"\n      }\n    },\n    {\n      \"column\": \"Description\",\n      \"properties\": {\n        \"dtype\": \"string\",\n        \"num_unique_values\": 17,\n        \"samples\": [\n          \"Salary\",\n          \"Grocery shopping at Coles\",\n          \"Freelance Project\"\n        ],\n        \"semantic_type\": \"\",\n        \"description\": \"\"\n      }\n    },\n    {\n      \"column\": \"Category\",\n      \"properties\": {\n        \"dtype\": \"string\",\n        \"num_unique_values\": 10,\n        \"samples\": [\n          \"Investments\",\n          \"Groceries\",\n          \"Transportation\"\n        ],\n        \"semantic_type\": \"\",\n        \"description\": \"\"\n      }\n    },\n    {\n      \"column\": \"Income/Expense\",\n      \"properties\": {\n        \"dtype\": \"category\",\n        \"num_unique_values\": 3,\n        \"samples\": [\n          \"Income\",\n          \"Expense\",\n          \"Expense\\t\"\n        ],\n        \"semantic_type\": \"\",\n        \"description\": \"\"\n      }\n    },\n    {\n      \"column\": \"Amount\",\n      \"properties\": {\n        \"dtype\": \"number\",\n        \"std\": 1219.6545557322295,\n        \"min\": 4.5,\n        \"max\": 5000.0,\n        \"num_unique_values\": 16,\n        \"samples\": [\n          5000.0,\n          150.5,\n          1200.0\n        ],\n        \"semantic_type\": \"\",\n        \"description\": \"\"\n      }\n    }\n  ]\n}"
            }
          },
          "metadata": {},
          "execution_count": 4
        }
      ]
    },
    {
      "cell_type": "markdown",
      "source": [
        "# Step 4: Categorizing Transactions with LLM\n",
        "\n",
        "## 4.1 Prepare Transaction Descriptions for Categorization"
      ],
      "metadata": {
        "id": "42R1yTTrezYo"
      }
    },
    {
      "cell_type": "code",
      "source": [
        "# Extract descriptions without categories\n",
        "descriptions = df[df['Category'] == '']['Description'].tolist()\n",
        "descriptions"
      ],
      "metadata": {
        "colab": {
          "base_uri": "https://localhost:8080/"
        },
        "id": "AuWn8qJSZi7o",
        "outputId": "6addfdd1-25d6-4e93-c9c1-07b51b394cd7"
      },
      "execution_count": null,
      "outputs": [
        {
          "output_type": "execute_result",
          "data": {
            "text/plain": [
              "['Gym Membership', 'Rent Payment', 'Donation to Charity']"
            ]
          },
          "metadata": {},
          "execution_count": 5
        }
      ]
    },
    {
      "cell_type": "markdown",
      "source": [
        "## 4.2 Define a Function to Categorize Transactions"
      ],
      "metadata": {
        "id": "dFi2_E8zfffu"
      }
    },
    {
      "cell_type": "code",
      "source": [
        "from openai import OpenAI\n",
        "\n",
        "# Setup OPENAI_API_KEY\n",
        "from google.colab import userdata\n",
        "import os\n",
        "\n",
        "os.environ[\"OPENAI_API_KEY\"] = userdata.get(\"OPENAI_API_KEY\")\n",
        "\n",
        "\n",
        "openai_client = OpenAI()\n",
        "\n",
        "def categorize_transaction(description):\n",
        "    completion = openai_client.chat.completions.create(\n",
        "      model=\"gpt-4o-mini\",\n",
        "      messages=[\n",
        "            {\"role\": \"system\", \"content\": \"You are a helpful financial assistant.\"},\n",
        "            {\n",
        "                \"role\": \"user\",\n",
        "                \"content\": f\"\"\"\n",
        "                  Categorize the following transaction: '{description}'.\n",
        "                  Possible categories are: Groceries, Utilities, Rent, Entertainment, Transportation, Dining Out, Miscellaneous, Health & Fitness, Housing, Investments, Insurance, Charity, and Income.\n",
        "                  Your answer should contain the category name only without explanations.\"\"\"\n",
        "            }\n",
        "        ]\n",
        "    )\n",
        "    category = completion.choices[0].message.content.strip()\n",
        "    return category"
      ],
      "metadata": {
        "id": "lLxkvwyefNgH"
      },
      "execution_count": null,
      "outputs": []
    },
    {
      "cell_type": "code",
      "source": [
        "print(categorize_transaction(\"Rent Payment\"))"
      ],
      "metadata": {
        "colab": {
          "base_uri": "https://localhost:8080/"
        },
        "id": "odM5wN-ZnHBw",
        "outputId": "ec16244f-9ced-4218-f8b7-6d946ec6d25e"
      },
      "execution_count": null,
      "outputs": [
        {
          "output_type": "stream",
          "name": "stdout",
          "text": [
            "Rent\n"
          ]
        }
      ]
    },
    {
      "cell_type": "markdown",
      "source": [
        "## 4.3 Apply Function to Categorize Multiple Transactions"
      ],
      "metadata": {
        "id": "bzgNdkplmGgE"
      }
    },
    {
      "cell_type": "code",
      "source": [
        "# Apply the categorization function to uncategorized transactions\n",
        "for index, row in df[df['Category'] == ''].iterrows():\n",
        "    category = categorize_transaction(row['Description'])\n",
        "    df.at[index, 'Category'] = category\n",
        "\n",
        "# Update the Google Sheet with the new categories\n",
        "for index, row in df.iterrows():\n",
        "    sheet.update_cell(index + 2, df.columns.get_loc('Category') + 1, row['Category'])"
      ],
      "metadata": {
        "id": "rFx9FUOkjcin"
      },
      "execution_count": null,
      "outputs": []
    },
    {
      "cell_type": "markdown",
      "source": [
        "# Step 5 Generating Financial Summaries with GPT-4o-mini\n",
        "\n",
        "We will create the function to generate financial summaries using **gpt-4o-mini**\n"
      ],
      "metadata": {
        "id": "Ry_GB01xpv2e"
      }
    },
    {
      "cell_type": "markdown",
      "source": [
        "## 5.1 Generate Monthly Financial Summary"
      ],
      "metadata": {
        "id": "a3H_4pv3qjvz"
      }
    },
    {
      "cell_type": "code",
      "source": [
        "def generate_financial_summary(total_income, total_spent, category_spending):\n",
        "  completion = openai_client.chat.completions.create(\n",
        "      model=\"gpt-4o-mini\",\n",
        "      messages=[\n",
        "        {\"role\": \"system\", \"content\": \"You are a helpful financial assistant.\"},\n",
        "        {\n",
        "          \"role\": \"user\",\n",
        "          \"content\": f\"Generate a financial summary based on the following data:\\n\"\n",
        "                      f\"Total Income: ${total_income:.2f}\\n\"\n",
        "                      f\"Total Expenses: ${total_spent:.2f}\\n\"\n",
        "                      f\"Spending by category: {category_spending.to_dict()}.\"\n",
        "                      \"You should output in plaintext only.\"\n",
        "        }\n",
        "      ]\n",
        "  )\n",
        "  summary = completion.choices[0].message.content.strip()\n",
        "  return summary"
      ],
      "metadata": {
        "id": "0TRAdydXp-Cm"
      },
      "execution_count": null,
      "outputs": []
    },
    {
      "cell_type": "markdown",
      "source": [
        "## 5.2 Call the Summary Function\n"
      ],
      "metadata": {
        "id": "4HHk75WXqfpl"
      }
    },
    {
      "cell_type": "code",
      "source": [
        "total_spent = df[df['Income/Expense'] == 'Expense']['Amount'].sum()\n",
        "total_income = df[df['Income/Expense'] == 'Income']['Amount'].sum()\n",
        "category_spending = df[df['Income/Expense'] == 'Expense'].groupby('Category')['Amount'].sum()\n",
        "\n",
        "financial_summary = generate_financial_summary(total_income, total_spent, category_spending)\n",
        "print(financial_summary)"
      ],
      "metadata": {
        "colab": {
          "base_uri": "https://localhost:8080/"
        },
        "id": "-9FGipjlqrO1",
        "outputId": "2edc2872-b32b-4ea0-f292-1932c933a000"
      },
      "execution_count": null,
      "outputs": [
        {
          "output_type": "stream",
          "name": "stdout",
          "text": [
            "Financial Summary:\n",
            "\n",
            "Total Income: $6415.00  \n",
            "Total Expenses: $2012.74  \n",
            "\n",
            "Net Income (Income - Expenses): $4402.26\n",
            "\n",
            "Spending by Category:  \n",
            "- Charity: $100.00  \n",
            "- Dining Out: $49.70  \n",
            "- Entertainment: $37.99  \n",
            "- Groceries: $370.80  \n",
            "- Health & Fitness: $35.00  \n",
            "- Insurance: $120.00  \n",
            "- Rent: $1200.00  \n",
            "- Transportation: $23.45  \n",
            "- Utilities: $75.80  \n",
            "\n",
            "Total Spending: $2012.74  \n",
            "Remaining Funds after Expenses: $4402.26\n"
          ]
        }
      ]
    },
    {
      "cell_type": "markdown",
      "source": [
        "# Step 6: Personalized Financial Advice\n",
        "\n",
        "We will create the function to generate financial advice"
      ],
      "metadata": {
        "id": "KBUdypg9q8qi"
      }
    },
    {
      "cell_type": "markdown",
      "source": [
        "## 6.1 Generate Financial Advice Based on Transaction Data"
      ],
      "metadata": {
        "id": "HmxNgv05rEjY"
      }
    },
    {
      "cell_type": "code",
      "source": [
        "def generate_personalized_advice(df):\n",
        "  largest_expense = df[df['Income/Expense'] == 'Expense'].nlargest(1, 'Amount')\n",
        "\n",
        "  completion = openai_client.chat.completions.create(\n",
        "      model=\"gpt-4o-mini\",\n",
        "      messages=[\n",
        "        {\"role\": \"system\", \"content\": \"You are a helpful financial assistant.\"},\n",
        "        {\n",
        "          \"role\": \"user\",\n",
        "          \"content\": f\"Based on the following transaction history, provide personalized financial advice:\\n\"\n",
        "                      f\"Largest expense: {largest_expense['Description'].values[0]} (${largest_expense['Amount'].values[0]:.2f})\\n\"\n",
        "                      f\"Categories where spending is increasing.\"\n",
        "                      f\"You should output in plaintext only.\"\n",
        "        }\n",
        "      ]\n",
        "  )\n",
        "  advice = completion.choices[0].message.content.strip()\n",
        "  return advice"
      ],
      "metadata": {
        "id": "42cmguhtrD4Z"
      },
      "execution_count": null,
      "outputs": []
    },
    {
      "cell_type": "markdown",
      "source": [
        "## 6.2 Call the Advice Function"
      ],
      "metadata": {
        "id": "teqGofo8rhLJ"
      }
    },
    {
      "cell_type": "code",
      "source": [
        "financial_advice = generate_personalized_advice(df)\n",
        "print(financial_advice)"
      ],
      "metadata": {
        "colab": {
          "base_uri": "https://localhost:8080/"
        },
        "id": "TJBzSlJ_rkMI",
        "outputId": "fc12d40b-2d6b-4bb4-cc1f-aba5c4544368"
      },
      "execution_count": null,
      "outputs": [
        {
          "output_type": "stream",
          "name": "stdout",
          "text": [
            "Based on your transaction history and the indication that your largest expense is your rent payment ($1200.00), here are some personalized financial advice points to consider:\n",
            "\n",
            "1. **Budget Review**: Assess your entire monthly budget, particularly the categories where spending is increasing. Identify specific areas where you can cut back, such as dining out, entertainment, or shopping, to allocate more funds toward essential expenses or savings.\n",
            "\n",
            "2. **Necessity Check**: Reevaluate your increasing spending categories. Determine if the expenses are necessary or if there are alternatives that could help reduce costs, like cooking at home instead of dining out.\n",
            "\n",
            "3. **Goal Setting**: Set clear financial goals to help motivate your spending habits. This could include saving for an emergency fund, a travel fund, or paying off debt.\n",
            "\n",
            "4. **Rent Consideration**: Since rent is your largest expense, consider if it’s feasible to negotiate your rent with your landlord, or if relocating to a more affordable area could be beneficial in the long term.\n",
            "\n",
            "5. **Track Your Spending**: Utilize budgeting apps or tools to track your expenses and spot trends in your spending. This awareness will assist you in making informed decisions.\n",
            "\n",
            "6. **Evaluate Subscription Services**: If you have subscriptions or memberships, review them to see if there are any you can cancel or downgrade to save extra cash.\n",
            "\n",
            "7. **Emergency Fund**: Start or continue to build an emergency fund to cover at least 3–6 months of living expenses, including rent. This can provide financial stability in case of unexpected events.\n",
            "\n",
            "8. **Invest in Yourself**: Consider investing in skills or education that can lead to higher earnings, ultimately improving your financial situation.\n",
            "\n",
            "By implementing these strategies, you can manage your finances more effectively and work toward greater financial stability.\n"
          ]
        }
      ]
    },
    {
      "cell_type": "markdown",
      "source": [
        "## 6.3 Function to convert markdown to text\n",
        "\n",
        "The output from GPT model may be in markdown format, so we need to parse MD before saving in PDF reports. We will use **Beautifulsoup** to do this"
      ],
      "metadata": {
        "id": "oUyFI0Zjw73t"
      }
    },
    {
      "cell_type": "code",
      "source": [
        "!pip install beautifulsoup4"
      ],
      "metadata": {
        "colab": {
          "base_uri": "https://localhost:8080/"
        },
        "id": "8eV42wG7weq2",
        "outputId": "620ba4d6-a28e-4a1e-eb98-9ac98e8e89ab"
      },
      "execution_count": null,
      "outputs": [
        {
          "output_type": "stream",
          "name": "stdout",
          "text": [
            "Requirement already satisfied: beautifulsoup4 in /usr/local/lib/python3.10/dist-packages (4.12.3)\n",
            "Requirement already satisfied: soupsieve>1.2 in /usr/local/lib/python3.10/dist-packages (from beautifulsoup4) (2.6)\n"
          ]
        }
      ]
    },
    {
      "cell_type": "code",
      "source": [
        "from markdown import markdown\n",
        "import re\n",
        "\n",
        "def markdown_to_html(markdown_string):\n",
        "    \"\"\"Converts a markdown string to HTML, including support for tables.\"\"\"\n",
        "\n",
        "    # Convert markdown to HTML, enabling table extensions\n",
        "    html = markdown(markdown_string)\n",
        "\n",
        "    return html\n",
        "\n",
        "financial_summary = markdown_to_html(financial_summary)\n",
        "print(financial_summary)"
      ],
      "metadata": {
        "colab": {
          "base_uri": "https://localhost:8080/"
        },
        "id": "33XqimmCwd2L",
        "outputId": "4fa71413-aadc-40a4-bf98-38d8a477136a"
      },
      "execution_count": null,
      "outputs": [
        {
          "output_type": "stream",
          "name": "stdout",
          "text": [
            "<p>Financial Summary:</p>\n",
            "<p>Total Income: $6415.00<br />\n",
            "Total Expenses: $2012.74  </p>\n",
            "<p>Net Income (Income - Expenses): $4402.26</p>\n",
            "<p>Spending by Category:<br />\n",
            "- Charity: $100.00<br />\n",
            "- Dining Out: $49.70<br />\n",
            "- Entertainment: $37.99<br />\n",
            "- Groceries: $370.80<br />\n",
            "- Health &amp; Fitness: $35.00<br />\n",
            "- Insurance: $120.00<br />\n",
            "- Rent: $1200.00<br />\n",
            "- Transportation: $23.45<br />\n",
            "- Utilities: $75.80  </p>\n",
            "<p>Total Spending: $2012.74<br />\n",
            "Remaining Funds after Expenses: $4402.26</p>\n"
          ]
        }
      ]
    },
    {
      "cell_type": "code",
      "source": [
        "financial_advice = markdown_to_html(financial_advice)\n",
        "print(financial_advice)"
      ],
      "metadata": {
        "colab": {
          "base_uri": "https://localhost:8080/"
        },
        "id": "1w2sm-N4x1jU",
        "outputId": "0e05fe49-d370-4ece-ef16-4b65ec42d461"
      },
      "execution_count": null,
      "outputs": [
        {
          "output_type": "stream",
          "name": "stdout",
          "text": [
            "<p>Based on your transaction history and the indication that your largest expense is your rent payment ($1200.00), here are some personalized financial advice points to consider:</p>\n",
            "<ol>\n",
            "<li>\n",
            "<p><strong>Budget Review</strong>: Assess your entire monthly budget, particularly the categories where spending is increasing. Identify specific areas where you can cut back, such as dining out, entertainment, or shopping, to allocate more funds toward essential expenses or savings.</p>\n",
            "</li>\n",
            "<li>\n",
            "<p><strong>Necessity Check</strong>: Reevaluate your increasing spending categories. Determine if the expenses are necessary or if there are alternatives that could help reduce costs, like cooking at home instead of dining out.</p>\n",
            "</li>\n",
            "<li>\n",
            "<p><strong>Goal Setting</strong>: Set clear financial goals to help motivate your spending habits. This could include saving for an emergency fund, a travel fund, or paying off debt.</p>\n",
            "</li>\n",
            "<li>\n",
            "<p><strong>Rent Consideration</strong>: Since rent is your largest expense, consider if it’s feasible to negotiate your rent with your landlord, or if relocating to a more affordable area could be beneficial in the long term.</p>\n",
            "</li>\n",
            "<li>\n",
            "<p><strong>Track Your Spending</strong>: Utilize budgeting apps or tools to track your expenses and spot trends in your spending. This awareness will assist you in making informed decisions.</p>\n",
            "</li>\n",
            "<li>\n",
            "<p><strong>Evaluate Subscription Services</strong>: If you have subscriptions or memberships, review them to see if there are any you can cancel or downgrade to save extra cash.</p>\n",
            "</li>\n",
            "<li>\n",
            "<p><strong>Emergency Fund</strong>: Start or continue to build an emergency fund to cover at least 3–6 months of living expenses, including rent. This can provide financial stability in case of unexpected events.</p>\n",
            "</li>\n",
            "<li>\n",
            "<p><strong>Invest in Yourself</strong>: Consider investing in skills or education that can lead to higher earnings, ultimately improving your financial situation.</p>\n",
            "</li>\n",
            "</ol>\n",
            "<p>By implementing these strategies, you can manage your finances more effectively and work toward greater financial stability.</p>\n"
          ]
        }
      ]
    },
    {
      "cell_type": "markdown",
      "source": [
        "# Step 7: Report Automation\n",
        "\n",
        "## 7.1 Generate a PDF Report\n",
        "\n",
        "We can use libraries like **pdfkit** to generate PDF reports."
      ],
      "metadata": {
        "id": "EJI_asHwrsMm"
      }
    },
    {
      "cell_type": "code",
      "source": [
        "!pip install pdfkit\n",
        "!apt-get update\n",
        "!apt-get install -y wkhtmltopdf\n",
        "\n",
        "import pdfkit\n",
        "\n",
        "# Configure pdfkit to point to our installed wkhtmltopdf\n",
        "config = pdfkit.configuration(wkhtmltopdf='/usr/bin/wkhtmltopdf')"
      ],
      "metadata": {
        "colab": {
          "base_uri": "https://localhost:8080/"
        },
        "id": "0MLKOVXW9tgh",
        "outputId": "0410674e-e990-48a7-c1f7-999f576345ba"
      },
      "execution_count": null,
      "outputs": [
        {
          "output_type": "stream",
          "name": "stdout",
          "text": [
            "Requirement already satisfied: pdfkit in /usr/local/lib/python3.10/dist-packages (1.0.0)\n",
            "Hit:1 https://cloud.r-project.org/bin/linux/ubuntu jammy-cran40/ InRelease\n",
            "Hit:2 https://developer.download.nvidia.com/compute/cuda/repos/ubuntu2204/x86_64  InRelease\n",
            "Get:3 http://security.ubuntu.com/ubuntu jammy-security InRelease [129 kB]\n",
            "Hit:4 http://archive.ubuntu.com/ubuntu jammy InRelease\n",
            "Ign:5 https://r2u.stat.illinois.edu/ubuntu jammy InRelease\n",
            "Hit:6 https://r2u.stat.illinois.edu/ubuntu jammy Release\n",
            "Get:7 http://archive.ubuntu.com/ubuntu jammy-updates InRelease [128 kB]\n",
            "Hit:9 https://ppa.launchpadcontent.net/deadsnakes/ppa/ubuntu jammy InRelease\n",
            "Hit:10 https://ppa.launchpadcontent.net/graphics-drivers/ppa/ubuntu jammy InRelease\n",
            "Hit:11 https://ppa.launchpadcontent.net/ubuntugis/ppa/ubuntu jammy InRelease\n",
            "Hit:12 http://archive.ubuntu.com/ubuntu jammy-backports InRelease\n",
            "Fetched 257 kB in 1s (184 kB/s)\n",
            "Reading package lists... Done\n",
            "W: Skipping acquire of configured file 'main/source/Sources' as repository 'https://r2u.stat.illinois.edu/ubuntu jammy InRelease' does not seem to provide it (sources.list entry misspelt?)\n",
            "Reading package lists... Done\n",
            "Building dependency tree... Done\n",
            "Reading state information... Done\n",
            "wkhtmltopdf is already the newest version (0.12.6-2).\n",
            "0 upgraded, 0 newly installed, 0 to remove and 51 not upgraded.\n"
          ]
        }
      ]
    },
    {
      "cell_type": "code",
      "source": [
        "import pdfkit\n",
        "\n",
        "def create_pdf_report(summary, advice):\n",
        "    html_content = f\"\"\"\n",
        "    <!DOCTYPE html>\n",
        "    <html>\n",
        "    <head>\n",
        "        <meta charset=\"UTF-8\">\n",
        "        <title>Monthly Financial Report</title>\n",
        "        <style>\n",
        "            body {{\n",
        "                font-family: 'Arial', sans-serif;\n",
        "            }}\n",
        "        </style>\n",
        "    </head>\n",
        "    <body>\n",
        "        <h1 style=\"text-align: center;\">Monthly Financial Report</h1>\n",
        "\n",
        "        <h2>Summary</h2>\n",
        "        {summary}\n",
        "\n",
        "        <h2>Advice</h2>\n",
        "        {advice}\n",
        "    </body>\n",
        "    </html>\n",
        "    \"\"\"\n",
        "\n",
        "    options = {\n",
        "        'encoding': 'UTF-8',\n",
        "    }\n",
        "\n",
        "    pdfkit.from_string(html_content, 'financial_report.pdf', options=options)\n",
        "\n",
        "\n",
        "create_pdf_report(financial_summary, financial_advice)"
      ],
      "metadata": {
        "id": "AnHVrtv2sF55"
      },
      "execution_count": null,
      "outputs": []
    },
    {
      "cell_type": "markdown",
      "source": [
        "# Notes\n",
        "\n",
        "- Currently in our prompt we instruct the model to output only in plaintext but we can have problems that can affect the format of pdf file we want to save"
      ],
      "metadata": {
        "id": "g12C5hQmBOqX"
      }
    }
  ]
}