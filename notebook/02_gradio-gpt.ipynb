{
 "cells": [
  {
   "cell_type": "markdown",
   "metadata": {},
   "source": [
    "# Self-Contained Gradio UI and GPT Integration Notebook\n",
    "\n",
    "This notebook contains all the necessary code to set up a Gradio UI for the AI Financial Advisor and integrate it with GPT for generating financial insights. No external .py files are required.\n",
    "\n",
    "## License\n",
    "\n",
    "This notebook is licensed under the GPLv3 License. See the LICENSE file for more details.\n",
    "\n",
    "Copyright (C) 2024 [Vincent Koc](https://github.com/vincentkoc)\n",
    "\n",
    "Copyright (C) 2024 [Hung Nguyen](https://github.com/hung-ngm)\n",
    "\n",
    "## Setup\n",
    "\n",
    "First, let's import the necessary libraries and set up our environment."
   ]
  },
  {
   "cell_type": "code",
   "execution_count": 7,
   "metadata": {},
   "outputs": [],
   "source": [
    "%pip install python-dotenv pandas gspread oauth2client openai==0.28.0 pdfkit gradio"
   ]
  },
  {
   "cell_type": "code",
   "execution_count": 2,
   "metadata": {},
   "outputs": [
    {
     "name": "stderr",
     "output_type": "stream",
     "text": [
      "/Users/vincentkoc/GIT/_Perso/bitesize-notebook-financial-advisor/.venv/lib/python3.9/site-packages/tqdm/auto.py:21: TqdmWarning: IProgress not found. Please update jupyter and ipywidgets. See https://ipywidgets.readthedocs.io/en/stable/user_install.html\n",
      "  from .autonotebook import tqdm as notebook_tqdm\n"
     ]
    }
   ],
   "source": [
    "import os\n",
    "import pandas as pd\n",
    "import openai\n",
    "import gradio as gr\n",
    "from dotenv import load_dotenv\n",
    "\n",
    "# Load environment variables\n",
    "load_dotenv()\n",
    "\n",
    "# Set up OpenAI API key\n",
    "openai.api_key = os.getenv(\"OPENAI_API_KEY\")\n",
    "\n",
    "# Check if the API key is set\n",
    "if not openai.api_key:\n",
    "    raise ValueError(\"OpenAI API key is not set. Please check your .env file.\")"
   ]
  },
  {
   "cell_type": "markdown",
   "metadata": {},
   "source": [
    "## Load Financial Data\n",
    "\n",
    "Let's define functions to load our financial data from either a CSV file or Google Sheets."
   ]
  },
  {
   "cell_type": "code",
   "execution_count": 3,
   "metadata": {},
   "outputs": [
    {
     "name": "stdout",
     "output_type": "stream",
     "text": [
      "Data loaded successfully. Shape: (121, 5)\n"
     ]
    }
   ],
   "source": [
    "import gspread\n",
    "from oauth2client.service_account import ServiceAccountCredentials\n",
    "\n",
    "def load_from_google_sheets():\n",
    "    scope = [\"https://spreadsheets.google.com/feeds\", \"https://www.googleapis.com/auth/drive\"]\n",
    "    creds = ServiceAccountCredentials.from_json_keyfile_name(os.getenv(\"GOOGLE_APPLICATION_CREDENTIALS\"), scope)\n",
    "    client = gspread.authorize(creds)\n",
    "\n",
    "    sheet = client.open_by_url(os.getenv(\"DUMMY_DATA_SPREADSHEET\")).sheet1\n",
    "    data = sheet.get_all_records()\n",
    "    return pd.DataFrame(data)\n",
    "\n",
    "def load_from_csv():\n",
    "    csv_path = '../data/data.csv'  # Assuming the CSV file is in the same directory as the notebook\n",
    "    if not os.path.exists(csv_path):\n",
    "        raise FileNotFoundError(f\"The file {csv_path} does not exist.\")\n",
    "    return pd.read_csv(csv_path)\n",
    "\n",
    "def load_data():\n",
    "    if os.getenv(\"USE_GOOGLE_SHEETS\", \"false\").lower() == \"true\":\n",
    "        return load_from_google_sheets()\n",
    "    else:\n",
    "        return load_from_csv()\n",
    "\n",
    "# Load the financial data\n",
    "df = load_data()\n",
    "\n",
    "print(\"Data loaded successfully. Shape:\", df.shape)"
   ]
  },
  {
   "cell_type": "markdown",
   "metadata": {},
   "source": [
    "## Define Financial Analysis Functions\n",
    "\n",
    "Now, let's define the functions for generating financial summaries and personalized advice."
   ]
  },
  {
   "cell_type": "code",
   "execution_count": 4,
   "metadata": {},
   "outputs": [],
   "source": [
    "def generate_financial_summary(df):\n",
    "    total_spent = df[df['Income/Expense'] == 'Expense']['Amount'].sum()\n",
    "    total_income = df[df['Income/Expense'] == 'Income']['Amount'].sum()\n",
    "    category_spending = df[df['Income/Expense'] == 'Expense'].groupby('Category')['Amount'].sum()\n",
    "\n",
    "    completion = openai.ChatCompletion.create(\n",
    "        model=\"gpt-4o-mini\",\n",
    "        messages=[\n",
    "            {\"role\": \"system\", \"content\": \"You are a helpful financial assistant. Generate a concise financial summary based on the provided data.\"},\n",
    "            {\"role\": \"user\", \"content\": f\"Generate a financial summary based on the following data:\\n\"\n",
    "                                        f\"Total Income: ${total_income:.2f}\\n\"\n",
    "                                        f\"Total Expenses: ${total_spent:.2f}\\n\"\n",
    "                                        f\"Spending by category: {category_spending.to_dict()}\"}\n",
    "        ]\n",
    "    )\n",
    "    return completion.choices[0].message.content.strip()\n",
    "\n",
    "def generate_personalized_advice(df, age=None, lifestyle=None, hobbies=None):\n",
    "    transactions = df.to_string(index=False)\n",
    "\n",
    "    prompt = f\"\"\"\n",
    "    Based on the following transaction data:\n",
    "\n",
    "    {transactions}\n",
    "\n",
    "    And considering the following personal information:\n",
    "    Age: {age}\n",
    "    Lifestyle: {lifestyle}\n",
    "    Hobbies: {hobbies}\n",
    "\n",
    "    Please provide personalized financial advice. Include suggestions for budgeting, saving, and potential areas for improvement.\n",
    "    \"\"\"\n",
    "\n",
    "    response = openai.ChatCompletion.create(\n",
    "        model=\"gpt-4o-mini\",\n",
    "        messages=[\n",
    "            {\"role\": \"system\", \"content\": \"You are a helpful financial advisor.\"},\n",
    "            {\"role\": \"user\", \"content\": prompt}\n",
    "        ]\n",
    "    )\n",
    "\n",
    "    return response.choices[0].message.content"
   ]
  },
  {
   "cell_type": "markdown",
   "metadata": {},
   "source": [
    "## Define Advisor Interface\n",
    "\n",
    "Now, let's define the advisor interface function that will handle user requests for financial summaries and advice."
   ]
  },
  {
   "cell_type": "code",
   "execution_count": 5,
   "metadata": {},
   "outputs": [
    {
     "name": "stdout",
     "output_type": "stream",
     "text": [
      "Testing advisor interface...\n",
      "### Financial Summary\n",
      "\n",
      "**Total Income:** $39,952.00  \n",
      "**Total Expenses:** $22,590.21  \n",
      "**Net Income:** $17,361.79  \n",
      "\n",
      "#### Spending Breakdown by Category:\n",
      "- **Accommodation:** $9,250.00\n",
      "- **Charity:** $900.00\n",
      "- **Dining Out:** $1,081.50\n",
      "- **Electronics:** $3,500.00\n",
      "- **Entertainment:** $581.96\n",
      "- **Expense:** $200.00\n",
      "- **Fitness:** $160.00\n",
      "- **Groceries:** $2,292.00\n",
      "- **Insurance:** $600.00\n",
      "- **Miscellaneous:** $370.00\n",
      "- **Shopping:** $1,205.00\n",
      "- **Transportation:** $693.00\n",
      "- **Travel:** $950.00\n",
      "- **Utilities:** $806.75\n",
      "\n",
      "#### Summary:\n",
      "- Total income has significantly exceeded total expenses, resulting in a healthy net income of $17,361.79. The majority of expenses were allocated to accommodation, electronics, and groceries. Overall, financial management appears to be positive, with substantial savings and careful monitoring of essential expenditures.\n",
      "---\n",
      "Based on your transaction data and personal information, here’s a tailored financial analysis and recommendations for budgeting, saving, and improving your overall financial health:\n",
      "\n",
      "### 1. **Income Analysis**\n",
      "Your income for the last four months is substantial, totaling:\n",
      "\n",
      "- **Regular Salary:** $6,000/month\n",
      "  - Total over 4 months: **$24,000**\n",
      "  \n",
      "- **Freelance Work:** \n",
      "  - Freelance Graphic Design: $1,500  \n",
      "  - Freelance Web Design: $1,800  \n",
      "  - Freelance Photography: $1,700  \n",
      "  - Freelance Writing: $1,600\n",
      "  - Total Freelance Income: **$6,600**\n",
      "  \n",
      "- **Dividends:** \n",
      "  - $250 + $260 + $270 + $280 = **$1,060**\n",
      "  \n",
      "- **Interest Earned:** \n",
      "  - $20 + $22 + $24 + $26 = **$92**\n",
      "  \n",
      "- **Gifts:** \n",
      "  - $500 (Parents) + $100 (Friend) + $300 (Relatives) = **$900**\n",
      "  \n",
      "- **Total Income for 4 Months: $24,000 + $6,600 + $1,060 + $92 + $900 = $32,652**\n",
      "\n",
      "### 2. **Expense Analysis**\n",
      "Total expenses over the same period can be broadly categorized. Here’s a consolidated view:\n",
      "\n",
      "- **Accommodation (Rent):** $2,000/month × 4 = **$8,000**\n",
      "- **Utilities:** $80.75 + $120.50 + $118 + $83.50 = **$403.75**\n",
      "- **Groceries:** Roughly $200 + $180 + $195.50 + $205 = **$780.50**\n",
      "- **Dining Out:** Total from multiple entries (e.g., restaurants, cafes) = **$1,130.50** (estimate)\n",
      "- **Transportation:** Including Opal card top-ups, petrol, taxis, etc. = **$385**\n",
      "- **Health Insurance:** $150/month × 4 = **$600**\n",
      "- **Entertainment (Subscriptions & Activities):** Total (Netflix, Spotify, Disney+, concerts) = **$376.99**\n",
      "- **Miscellaneous and Other Expenses:** Total from various categories = **$420.00** (estimate)\n",
      "\n",
      "#### Estimated Total Expenses for 4 Months: \n",
      "**~$13,050** (Based on estimates and rounded figures).\n",
      "\n",
      "### 3. **Budgeting Recommendations**\n",
      "Based on your overall income and expenses, here’s a suggested budget framework:\n",
      "\n",
      "#### Monthly Budget Breakdown:\n",
      "- **Income:** $8,163 (approx. based on current monthly income)\n",
      "- **Fixed Expenses (Rent + Insurance + Utilities):** ~$2,200 (Rent + Health Insurance + Utilities)\n",
      "- **Groceries:** $200\n",
      "- **Dining Out:** $240 (Stay mindful of this category)\n",
      "- **Transport:** $100\n",
      "- **Entertainment + Hobbies:** $100\n",
      "- **Savings Goals:** Aim for at least **20-30%** of your net income (~$1,600–$2,400/month)\n",
      "\n",
      "#### Suggested Budgeting Goals:\n",
      "- Keep **Fixed Costs** below **40-50%** of your income.\n",
      "- Allocate at least **20-30%** to savings and investments.\n",
      "- The remainder can be used for **discretionary spending** and fun activities, conditional on total income.\n",
      "\n",
      "### 4. **Saving Strategy**\n",
      "1. **Emergency Fund:** Aim to save at least 3-6 months’ worth of expenses in a high-interest savings account. This should be your first priority.\n",
      "  \n",
      "2. **Savings Account:** Consider setting up automatic transfers to a savings account immediately after receiving your paycheck to foster good savings habits.\n",
      "\n",
      "3. **Invest in Retirement:** If you haven’t already, look into retirement accounts (like a 401(k) or similar) to benefit from compound growth and potential employer-matching contributions.\n",
      "\n",
      "### 5. **Areas for Improvement**\n",
      "1. **Dining Out:** Review your dining out expenses; consider limiting to a specific number of outings per month or create a budget to stick to.\n",
      "  \n",
      "2. **Groceries:** Try meal planning to reduce grocery bills.\n",
      "  \n",
      "3. **Subscriptions:** Reevaluate your subscriptions (e.g., Netflix, Disney+). Are you using them regularly? Consider canceling those you don’t.\n",
      "\n",
      "4. **Tracking Expenses:** Continue tracking your expenses meticulously, using budgeting apps to categorize and visualize where your money goes.\n",
      "\n",
      "### 6. **Lifestyle Considerations**\n",
      "Given your urban lifestyle and hobbies:\n",
      "- Utilize free or low-cost community resources – libraries, parks, community events, etc.\n",
      "- Consider local workshops or community college courses for hobbies like reading and tax-related work to stimulate personal growth affordably.\n",
      "\n",
      "### Conclusion\n",
      "With your current financial situation, following these budgeting strategies can help you balance saving and spending effectively. Always stay flexible with your finances, and adjust based on any life changes such as promotions, new job offers, or further income opportunities. Regularly review and update your budget to ensure you're meeting your financial goals!\n"
     ]
    }
   ],
   "source": [
    "def advisor_interface(request_type, age, location, hobbies):\n",
    "    if request_type == \"Summary\":\n",
    "        return generate_financial_summary(df)\n",
    "    elif request_type == \"Advice\":\n",
    "        return generate_personalized_advice(df, age=age, lifestyle=location, hobbies=hobbies)\n",
    "    else:\n",
    "        return \"Invalid request type. Please choose 'Summary' or 'Advice'.\"\n",
    "\n",
    "# Test the function\n",
    "print(\"Testing advisor interface...\")\n",
    "print(advisor_interface(\"Summary\", 30, \"Urban\", \"Reading\"))\n",
    "print(\"---\")\n",
    "print(advisor_interface(\"Advice\", 30, \"Urban\", \"Reading\"))"
   ]
  },
  {
   "cell_type": "markdown",
   "metadata": {},
   "source": [
    "## Create Gradio Interface\n",
    "\n",
    "Now, let's create the Gradio interface for our AI Financial Advisor."
   ]
  },
  {
   "cell_type": "code",
   "execution_count": 6,
   "metadata": {},
   "outputs": [
    {
     "name": "stdout",
     "output_type": "stream",
     "text": [
      "Running on local URL:  http://127.0.0.1:7861\n",
      "\n",
      "To create a public link, set `share=True` in `launch()`.\n"
     ]
    },
    {
     "data": {
      "text/html": [
       "<div><iframe src=\"http://127.0.0.1:7861/\" width=\"100%\" height=\"500\" allow=\"autoplay; camera; microphone; clipboard-read; clipboard-write;\" frameborder=\"0\" allowfullscreen></iframe></div>"
      ],
      "text/plain": [
       "<IPython.core.display.HTML object>"
      ]
     },
     "metadata": {},
     "output_type": "display_data"
    },
    {
     "data": {
      "text/plain": []
     },
     "execution_count": 6,
     "metadata": {},
     "output_type": "execute_result"
    }
   ],
   "source": [
    "def launch_gradio_ui():\n",
    "    iface = gr.Interface(\n",
    "        fn=advisor_interface,\n",
    "        inputs=[\n",
    "            gr.Dropdown(\n",
    "                choices=[\"Summary\", \"Advice\"],\n",
    "                label=\"Select summary or advice\"\n",
    "            ),\n",
    "            gr.Number(label=\"Age\"),\n",
    "            gr.Textbox(label=\"Lifestyle (optional)\", placeholder=\"e.g., Urban, Rural, Suburban\"),\n",
    "            gr.Textbox(label=\"Hobbies (optional)\", placeholder=\"e.g., Reading, Sports, Travel\")\n",
    "        ],\n",
    "        outputs=\"text\",\n",
    "        title=\"AI Financial Advisor\",\n",
    "        description=\"Get a financial summary or personalized advice based on your transaction history.\"\n",
    "    )\n",
    "    return iface\n",
    "\n",
    "# Create and launch the Gradio interface\n",
    "iface = launch_gradio_ui()\n",
    "iface.launch()"
   ]
  },
  {
   "cell_type": "markdown",
   "metadata": {},
   "source": [
    "## Interacting with the Gradio UI\n",
    "\n",
    "After running the cell above, you should see a link to the Gradio interface. Click on it to open the UI in a new tab. You can then interact with the AI Financial Advisor by:\n",
    "\n",
    "1. Selecting either \"Summary\" or \"Advice\" from the dropdown menu.\n",
    "2. If you selected \"Advice\", enter your age, lifestyle, and hobbies (optional).\n",
    "3. Click the \"Submit\" button to generate the financial summary or personalized advice.\n",
    "\n",
    "## Customizing the Gradio UI\n",
    "\n",
    "You can customize the Gradio UI by modifying the `launch_gradio_ui` function. For example, you could add more input fields, change the layout, or add example inputs."
   ]
  },
  {
   "cell_type": "markdown",
   "metadata": {},
   "source": [
    "## Conclusion\n",
    "\n",
    "In this notebook, we've created a self-contained Gradio UI for our AI Financial Advisor and integrated it with GPT for generating financial insights. This provides an interactive way for users to get financial summaries and personalized advice based on their transaction history and personal information.\n",
    "\n",
    "You can further improve this interface by:\n",
    "1. Adding data visualization components to show spending trends\n",
    "2. Implementing user authentication to handle multiple users' data\n",
    "3. Adding more advanced financial analysis tools\n",
    "\n",
    "Feel free to experiment with the code and adapt it to create even more powerful and user-friendly financial advisory tools!"
   ]
  }
 ],
 "metadata": {
  "kernelspec": {
   "display_name": "Python 3",
   "language": "python",
   "name": "python3"
  },
  "language_info": {
   "codemirror_mode": {
    "name": "ipython",
    "version": 3
   },
   "file_extension": ".py",
   "mimetype": "text/x-python",
   "name": "python",
   "nbconvert_exporter": "python",
   "pygments_lexer": "ipython3",
   "version": "3.9.11"
  }
 },
 "nbformat": 4,
 "nbformat_minor": 4
}
